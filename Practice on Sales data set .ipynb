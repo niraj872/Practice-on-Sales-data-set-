{
 "cells": [
  {
   "cell_type": "markdown",
   "id": "3f5058eb-7587-41b5-95dd-4ddb96353464",
   "metadata": {},
   "source": [
    "## Imporing Libraries"
   ]
  },
  {
   "cell_type": "code",
   "execution_count": 2,
   "id": "e737d74f-bac5-47b3-97a6-a221db2b8865",
   "metadata": {},
   "outputs": [],
   "source": [
    "# Importing Libraries\n",
    "import pandas as pd\n",
    "import numpy as np\n",
    "import matplotlib.pyplot as plt\n",
    "import seaborn as sns"
   ]
  },
  {
   "cell_type": "code",
   "execution_count": 3,
   "id": "1cf5b3c4-d0ac-4b90-be46-01419a3eeb1c",
   "metadata": {},
   "outputs": [
    {
     "name": "stdout",
     "output_type": "stream",
     "text": [
      "<class 'pandas.core.frame.DataFrame'>\n",
      "RangeIndex: 18383 entries, 0 to 18382\n",
      "Data columns (total 6 columns):\n",
      " #   Column            Non-Null Count  Dtype \n",
      "---  ------            --------------  ----- \n",
      " 0   Order ID          18324 non-null  object\n",
      " 1   Product           18324 non-null  object\n",
      " 2   Quantity Ordered  18324 non-null  object\n",
      " 3   Price Each        18324 non-null  object\n",
      " 4   Order Date        18324 non-null  object\n",
      " 5   Purchase Address  18324 non-null  object\n",
      "dtypes: object(6)\n",
      "memory usage: 861.8+ KB\n"
     ]
    }
   ],
   "source": [
    "df=pd.read_csv(\"Sales_April_2019.csv\")  # import csv file to do operation\n",
    "df.info()  # check the datatype and non-null value in each column"
   ]
  },
  {
   "cell_type": "code",
   "execution_count": 4,
   "id": "72b0102d-a169-4291-a50d-576b54201555",
   "metadata": {},
   "outputs": [],
   "source": [
    "df = df.dropna(subset=['Order Date']) # Drop null value from Order Date column"
   ]
  },
  {
   "cell_type": "code",
   "execution_count": 5,
   "id": "227c4ed3-2454-467c-9e86-382c5a0270ca",
   "metadata": {},
   "outputs": [
    {
     "name": "stdout",
     "output_type": "stream",
     "text": [
      "<class 'pandas.core.frame.DataFrame'>\n",
      "Index: 18324 entries, 0 to 18382\n",
      "Data columns (total 6 columns):\n",
      " #   Column            Non-Null Count  Dtype \n",
      "---  ------            --------------  ----- \n",
      " 0   Order ID          18324 non-null  object\n",
      " 1   Product           18324 non-null  object\n",
      " 2   Quantity Ordered  18324 non-null  object\n",
      " 3   Price Each        18324 non-null  object\n",
      " 4   Order Date        18324 non-null  object\n",
      " 5   Purchase Address  18324 non-null  object\n",
      "dtypes: object(6)\n",
      "memory usage: 1002.1+ KB\n"
     ]
    }
   ],
   "source": [
    "df.info()"
   ]
  },
  {
   "cell_type": "code",
   "execution_count": 6,
   "id": "a9fc9bc5-bb25-4bb6-8ddd-d4b4803e0c14",
   "metadata": {},
   "outputs": [
    {
     "data": {
      "text/html": [
       "<div>\n",
       "<style scoped>\n",
       "    .dataframe tbody tr th:only-of-type {\n",
       "        vertical-align: middle;\n",
       "    }\n",
       "\n",
       "    .dataframe tbody tr th {\n",
       "        vertical-align: top;\n",
       "    }\n",
       "\n",
       "    .dataframe thead th {\n",
       "        text-align: right;\n",
       "    }\n",
       "</style>\n",
       "<table border=\"1\" class=\"dataframe\">\n",
       "  <thead>\n",
       "    <tr style=\"text-align: right;\">\n",
       "      <th></th>\n",
       "      <th>Order ID</th>\n",
       "      <th>Product</th>\n",
       "      <th>Quantity Ordered</th>\n",
       "      <th>Price Each</th>\n",
       "      <th>Order Date</th>\n",
       "      <th>Purchase Address</th>\n",
       "    </tr>\n",
       "  </thead>\n",
       "  <tbody>\n",
       "    <tr>\n",
       "      <th>0</th>\n",
       "      <td>176558</td>\n",
       "      <td>USB-C Charging Cable</td>\n",
       "      <td>2</td>\n",
       "      <td>11.95</td>\n",
       "      <td>04/19/19 08:46</td>\n",
       "      <td>917 1st St, Dallas, TX 75001</td>\n",
       "    </tr>\n",
       "    <tr>\n",
       "      <th>2</th>\n",
       "      <td>176559</td>\n",
       "      <td>Bose SoundSport Headphones</td>\n",
       "      <td>1</td>\n",
       "      <td>99.99</td>\n",
       "      <td>04/07/19 22:30</td>\n",
       "      <td>682 Chestnut St, Boston, MA 02215</td>\n",
       "    </tr>\n",
       "    <tr>\n",
       "      <th>3</th>\n",
       "      <td>176560</td>\n",
       "      <td>Google Phone</td>\n",
       "      <td>1</td>\n",
       "      <td>600</td>\n",
       "      <td>04/12/19 14:38</td>\n",
       "      <td>669 Spruce St, Los Angeles, CA 90001</td>\n",
       "    </tr>\n",
       "    <tr>\n",
       "      <th>4</th>\n",
       "      <td>176560</td>\n",
       "      <td>Wired Headphones</td>\n",
       "      <td>1</td>\n",
       "      <td>11.99</td>\n",
       "      <td>04/12/19 14:38</td>\n",
       "      <td>669 Spruce St, Los Angeles, CA 90001</td>\n",
       "    </tr>\n",
       "    <tr>\n",
       "      <th>5</th>\n",
       "      <td>176561</td>\n",
       "      <td>Wired Headphones</td>\n",
       "      <td>1</td>\n",
       "      <td>11.99</td>\n",
       "      <td>04/30/19 09:27</td>\n",
       "      <td>333 8th St, Los Angeles, CA 90001</td>\n",
       "    </tr>\n",
       "    <tr>\n",
       "      <th>...</th>\n",
       "      <td>...</td>\n",
       "      <td>...</td>\n",
       "      <td>...</td>\n",
       "      <td>...</td>\n",
       "      <td>...</td>\n",
       "      <td>...</td>\n",
       "    </tr>\n",
       "    <tr>\n",
       "      <th>18378</th>\n",
       "      <td>194090</td>\n",
       "      <td>Google Phone</td>\n",
       "      <td>1</td>\n",
       "      <td>600</td>\n",
       "      <td>04/08/19 17:11</td>\n",
       "      <td>177 Jackson St, Los Angeles, CA 90001</td>\n",
       "    </tr>\n",
       "    <tr>\n",
       "      <th>18379</th>\n",
       "      <td>194091</td>\n",
       "      <td>AA Batteries (4-pack)</td>\n",
       "      <td>1</td>\n",
       "      <td>3.84</td>\n",
       "      <td>04/15/19 16:02</td>\n",
       "      <td>311 Forest St, Austin, TX 73301</td>\n",
       "    </tr>\n",
       "    <tr>\n",
       "      <th>18380</th>\n",
       "      <td>194092</td>\n",
       "      <td>AAA Batteries (4-pack)</td>\n",
       "      <td>2</td>\n",
       "      <td>2.99</td>\n",
       "      <td>04/28/19 14:36</td>\n",
       "      <td>347 Sunset St, San Francisco, CA 94016</td>\n",
       "    </tr>\n",
       "    <tr>\n",
       "      <th>18381</th>\n",
       "      <td>194093</td>\n",
       "      <td>AA Batteries (4-pack)</td>\n",
       "      <td>1</td>\n",
       "      <td>3.84</td>\n",
       "      <td>04/14/19 15:09</td>\n",
       "      <td>835 Lake St, Portland, OR 97035</td>\n",
       "    </tr>\n",
       "    <tr>\n",
       "      <th>18382</th>\n",
       "      <td>194094</td>\n",
       "      <td>Lightning Charging Cable</td>\n",
       "      <td>1</td>\n",
       "      <td>14.95</td>\n",
       "      <td>04/18/19 11:08</td>\n",
       "      <td>354 North St, Boston, MA 02215</td>\n",
       "    </tr>\n",
       "  </tbody>\n",
       "</table>\n",
       "<p>18324 rows × 6 columns</p>\n",
       "</div>"
      ],
      "text/plain": [
       "      Order ID                     Product Quantity Ordered Price Each  \\\n",
       "0       176558        USB-C Charging Cable                2      11.95   \n",
       "2       176559  Bose SoundSport Headphones                1      99.99   \n",
       "3       176560                Google Phone                1        600   \n",
       "4       176560            Wired Headphones                1      11.99   \n",
       "5       176561            Wired Headphones                1      11.99   \n",
       "...        ...                         ...              ...        ...   \n",
       "18378   194090                Google Phone                1        600   \n",
       "18379   194091       AA Batteries (4-pack)                1       3.84   \n",
       "18380   194092      AAA Batteries (4-pack)                2       2.99   \n",
       "18381   194093       AA Batteries (4-pack)                1       3.84   \n",
       "18382   194094    Lightning Charging Cable                1      14.95   \n",
       "\n",
       "           Order Date                        Purchase Address  \n",
       "0      04/19/19 08:46            917 1st St, Dallas, TX 75001  \n",
       "2      04/07/19 22:30       682 Chestnut St, Boston, MA 02215  \n",
       "3      04/12/19 14:38    669 Spruce St, Los Angeles, CA 90001  \n",
       "4      04/12/19 14:38    669 Spruce St, Los Angeles, CA 90001  \n",
       "5      04/30/19 09:27       333 8th St, Los Angeles, CA 90001  \n",
       "...               ...                                     ...  \n",
       "18378  04/08/19 17:11   177 Jackson St, Los Angeles, CA 90001  \n",
       "18379  04/15/19 16:02         311 Forest St, Austin, TX 73301  \n",
       "18380  04/28/19 14:36  347 Sunset St, San Francisco, CA 94016  \n",
       "18381  04/14/19 15:09         835 Lake St, Portland, OR 97035  \n",
       "18382  04/18/19 11:08          354 North St, Boston, MA 02215  \n",
       "\n",
       "[18324 rows x 6 columns]"
      ]
     },
     "execution_count": 6,
     "metadata": {},
     "output_type": "execute_result"
    }
   ],
   "source": [
    "df"
   ]
  },
  {
   "cell_type": "code",
   "execution_count": 7,
   "id": "838fae01-0d0c-44da-9527-4e9f54c3297b",
   "metadata": {},
   "outputs": [
    {
     "data": {
      "text/plain": [
       "Order ID            0\n",
       "Product             0\n",
       "Quantity Ordered    0\n",
       "Price Each          0\n",
       "Order Date          0\n",
       "Purchase Address    0\n",
       "dtype: int64"
      ]
     },
     "execution_count": 7,
     "metadata": {},
     "output_type": "execute_result"
    }
   ],
   "source": [
    "df.isnull().sum()"
   ]
  },
  {
   "cell_type": "markdown",
   "id": "99b1d220-b4da-4fa2-943b-07bb2ec62630",
   "metadata": {},
   "source": [
    "#### Date and time spliting"
   ]
  },
  {
   "cell_type": "code",
   "execution_count": 8,
   "id": "1b058274-4c4d-4959-8c5e-27e731ed7d75",
   "metadata": {},
   "outputs": [
    {
     "name": "stderr",
     "output_type": "stream",
     "text": [
      "C:\\Users\\Sudhir\\AppData\\Local\\Temp\\ipykernel_20776\\365846081.py:1: UserWarning: Could not infer format, so each element will be parsed individually, falling back to `dateutil`. To ensure parsing is consistent and as-expected, please specify a format.\n",
      "  df['Order Date'] = pd.to_datetime(df['Order Date'], errors='coerce') #convert datatype of column object to datetime datatype\n"
     ]
    }
   ],
   "source": [
    "df['Order Date'] = pd.to_datetime(df['Order Date'], errors='coerce') #convert datatype of column object to datetime datatype"
   ]
  },
  {
   "cell_type": "code",
   "execution_count": 9,
   "id": "eb55ec9a-922c-4321-b1df-ad8936115d4a",
   "metadata": {},
   "outputs": [
    {
     "data": {
      "text/plain": [
       "Order ID             0\n",
       "Product              0\n",
       "Quantity Ordered     0\n",
       "Price Each           0\n",
       "Order Date          35\n",
       "Purchase Address     0\n",
       "dtype: int64"
      ]
     },
     "execution_count": 9,
     "metadata": {},
     "output_type": "execute_result"
    }
   ],
   "source": [
    "df.isnull().sum()"
   ]
  },
  {
   "cell_type": "code",
   "execution_count": 10,
   "id": "f197c528-1794-4988-9686-55534f4efa98",
   "metadata": {},
   "outputs": [],
   "source": [
    "df=df.dropna(subset=['Order Date'])"
   ]
  },
  {
   "cell_type": "code",
   "execution_count": 11,
   "id": "99040377-4325-4564-aa4e-3c38e91613fa",
   "metadata": {},
   "outputs": [
    {
     "name": "stdout",
     "output_type": "stream",
     "text": [
      "0    2019-04-19 08:46:00\n",
      "2    2019-04-07 22:30:00\n",
      "3    2019-04-12 14:38:00\n",
      "4    2019-04-12 14:38:00\n",
      "5    2019-04-30 09:27:00\n",
      "6    2019-04-29 13:03:00\n",
      "7    2019-04-02 07:46:00\n",
      "8    2019-04-12 10:58:00\n",
      "9    2019-04-24 10:38:00\n",
      "10   2019-04-08 14:05:00\n",
      "11   2019-04-18 17:18:00\n",
      "12   2019-04-15 12:18:00\n",
      "13   2019-04-16 19:23:00\n",
      "14   2019-04-22 15:09:00\n",
      "15   2019-04-19 14:29:00\n",
      "Name: Order Date, dtype: datetime64[ns]\n",
      "0\n"
     ]
    }
   ],
   "source": [
    "print(df['Order Date'].head(15))\n",
    "print(df['Order Date'].isnull().sum())"
   ]
  },
  {
   "cell_type": "code",
   "execution_count": 12,
   "id": "e992e4f9-c240-41de-82c8-3373e3d80467",
   "metadata": {},
   "outputs": [
    {
     "name": "stderr",
     "output_type": "stream",
     "text": [
      "C:\\Users\\Sudhir\\AppData\\Local\\Temp\\ipykernel_20776\\1379364871.py:1: SettingWithCopyWarning: \n",
      "A value is trying to be set on a copy of a slice from a DataFrame.\n",
      "Try using .loc[row_indexer,col_indexer] = value instead\n",
      "\n",
      "See the caveats in the documentation: https://pandas.pydata.org/pandas-docs/stable/user_guide/indexing.html#returning-a-view-versus-a-copy\n",
      "  df[\"date\"] = df[\"Order Date\"].dt.strftime('%Y-%m-%d')\n",
      "C:\\Users\\Sudhir\\AppData\\Local\\Temp\\ipykernel_20776\\1379364871.py:2: SettingWithCopyWarning: \n",
      "A value is trying to be set on a copy of a slice from a DataFrame.\n",
      "Try using .loc[row_indexer,col_indexer] = value instead\n",
      "\n",
      "See the caveats in the documentation: https://pandas.pydata.org/pandas-docs/stable/user_guide/indexing.html#returning-a-view-versus-a-copy\n",
      "  df[\"time\"] = df[\"Order Date\"].dt.strftime('%H:%M')\n"
     ]
    }
   ],
   "source": [
    "df[\"date\"] = df[\"Order Date\"].dt.strftime('%Y-%m-%d') \n",
    "df[\"time\"] = df[\"Order Date\"].dt.strftime('%H:%M')"
   ]
  },
  {
   "cell_type": "code",
   "execution_count": 13,
   "id": "56527ce7-c7fc-41d6-982b-4eddc27b304a",
   "metadata": {},
   "outputs": [
    {
     "name": "stdout",
     "output_type": "stream",
     "text": [
      "<class 'pandas.core.frame.DataFrame'>\n",
      "Index: 18289 entries, 0 to 18382\n",
      "Data columns (total 8 columns):\n",
      " #   Column            Non-Null Count  Dtype         \n",
      "---  ------            --------------  -----         \n",
      " 0   Order ID          18289 non-null  object        \n",
      " 1   Product           18289 non-null  object        \n",
      " 2   Quantity Ordered  18289 non-null  object        \n",
      " 3   Price Each        18289 non-null  object        \n",
      " 4   Order Date        18289 non-null  datetime64[ns]\n",
      " 5   Purchase Address  18289 non-null  object        \n",
      " 6   date              18289 non-null  object        \n",
      " 7   time              18289 non-null  object        \n",
      "dtypes: datetime64[ns](1), object(7)\n",
      "memory usage: 1.3+ MB\n"
     ]
    }
   ],
   "source": [
    "df.info()"
   ]
  },
  {
   "cell_type": "code",
   "execution_count": 14,
   "id": "1337276d-a7a3-4a55-b2e7-7d56575d5662",
   "metadata": {},
   "outputs": [
    {
     "name": "stderr",
     "output_type": "stream",
     "text": [
      "C:\\Users\\Sudhir\\AppData\\Local\\Temp\\ipykernel_20776\\2654259017.py:1: SettingWithCopyWarning: \n",
      "A value is trying to be set on a copy of a slice from a DataFrame.\n",
      "Try using .loc[row_indexer,col_indexer] = value instead\n",
      "\n",
      "See the caveats in the documentation: https://pandas.pydata.org/pandas-docs/stable/user_guide/indexing.html#returning-a-view-versus-a-copy\n",
      "  df['date'] = pd.to_datetime(df['date'], format='%Y-%m-%d', errors='coerce')\n"
     ]
    }
   ],
   "source": [
    "df['date'] = pd.to_datetime(df['date'], format='%Y-%m-%d', errors='coerce')"
   ]
  },
  {
   "cell_type": "code",
   "execution_count": 15,
   "id": "eb5be736-2200-444e-8c26-8d85a887d223",
   "metadata": {},
   "outputs": [
    {
     "name": "stderr",
     "output_type": "stream",
     "text": [
      "C:\\Users\\Sudhir\\AppData\\Local\\Temp\\ipykernel_20776\\4054875197.py:1: SettingWithCopyWarning: \n",
      "A value is trying to be set on a copy of a slice from a DataFrame.\n",
      "Try using .loc[row_indexer,col_indexer] = value instead\n",
      "\n",
      "See the caveats in the documentation: https://pandas.pydata.org/pandas-docs/stable/user_guide/indexing.html#returning-a-view-versus-a-copy\n",
      "  df['Day']=df['date'].dt.day\n",
      "C:\\Users\\Sudhir\\AppData\\Local\\Temp\\ipykernel_20776\\4054875197.py:2: SettingWithCopyWarning: \n",
      "A value is trying to be set on a copy of a slice from a DataFrame.\n",
      "Try using .loc[row_indexer,col_indexer] = value instead\n",
      "\n",
      "See the caveats in the documentation: https://pandas.pydata.org/pandas-docs/stable/user_guide/indexing.html#returning-a-view-versus-a-copy\n",
      "  df['Month']=df['date'].dt.month\n",
      "C:\\Users\\Sudhir\\AppData\\Local\\Temp\\ipykernel_20776\\4054875197.py:3: SettingWithCopyWarning: \n",
      "A value is trying to be set on a copy of a slice from a DataFrame.\n",
      "Try using .loc[row_indexer,col_indexer] = value instead\n",
      "\n",
      "See the caveats in the documentation: https://pandas.pydata.org/pandas-docs/stable/user_guide/indexing.html#returning-a-view-versus-a-copy\n",
      "  df['Year']=df['date'].dt.year\n"
     ]
    }
   ],
   "source": [
    "df['Day']=df['date'].dt.day\n",
    "df['Month']=df['date'].dt.month\n",
    "df['Year']=df['date'].dt.year"
   ]
  },
  {
   "cell_type": "code",
   "execution_count": 16,
   "id": "65bc8afe-72e6-4ba3-87ef-e0085ef5b6d3",
   "metadata": {},
   "outputs": [
    {
     "name": "stdout",
     "output_type": "stream",
     "text": [
      "0\n"
     ]
    }
   ],
   "source": [
    "print(df['date'].isnull().sum())"
   ]
  },
  {
   "cell_type": "code",
   "execution_count": 17,
   "id": "1ef9119f-6bdc-4f4d-be84-d884338e65bf",
   "metadata": {},
   "outputs": [],
   "source": [
    "df = df.dropna(subset=['date'])"
   ]
  },
  {
   "cell_type": "code",
   "execution_count": 18,
   "id": "b1078148-12d9-4a5c-b877-ff4079a2ca9d",
   "metadata": {},
   "outputs": [
    {
     "data": {
      "text/html": [
       "<div>\n",
       "<style scoped>\n",
       "    .dataframe tbody tr th:only-of-type {\n",
       "        vertical-align: middle;\n",
       "    }\n",
       "\n",
       "    .dataframe tbody tr th {\n",
       "        vertical-align: top;\n",
       "    }\n",
       "\n",
       "    .dataframe thead th {\n",
       "        text-align: right;\n",
       "    }\n",
       "</style>\n",
       "<table border=\"1\" class=\"dataframe\">\n",
       "  <thead>\n",
       "    <tr style=\"text-align: right;\">\n",
       "      <th></th>\n",
       "      <th>Order ID</th>\n",
       "      <th>Product</th>\n",
       "      <th>Quantity Ordered</th>\n",
       "      <th>Price Each</th>\n",
       "      <th>Order Date</th>\n",
       "      <th>Purchase Address</th>\n",
       "      <th>date</th>\n",
       "      <th>time</th>\n",
       "      <th>Day</th>\n",
       "      <th>Month</th>\n",
       "      <th>Year</th>\n",
       "    </tr>\n",
       "  </thead>\n",
       "  <tbody>\n",
       "    <tr>\n",
       "      <th>0</th>\n",
       "      <td>176558</td>\n",
       "      <td>USB-C Charging Cable</td>\n",
       "      <td>2</td>\n",
       "      <td>11.95</td>\n",
       "      <td>2019-04-19 08:46:00</td>\n",
       "      <td>917 1st St, Dallas, TX 75001</td>\n",
       "      <td>2019-04-19</td>\n",
       "      <td>08:46</td>\n",
       "      <td>19</td>\n",
       "      <td>4</td>\n",
       "      <td>2019</td>\n",
       "    </tr>\n",
       "    <tr>\n",
       "      <th>2</th>\n",
       "      <td>176559</td>\n",
       "      <td>Bose SoundSport Headphones</td>\n",
       "      <td>1</td>\n",
       "      <td>99.99</td>\n",
       "      <td>2019-04-07 22:30:00</td>\n",
       "      <td>682 Chestnut St, Boston, MA 02215</td>\n",
       "      <td>2019-04-07</td>\n",
       "      <td>22:30</td>\n",
       "      <td>7</td>\n",
       "      <td>4</td>\n",
       "      <td>2019</td>\n",
       "    </tr>\n",
       "    <tr>\n",
       "      <th>3</th>\n",
       "      <td>176560</td>\n",
       "      <td>Google Phone</td>\n",
       "      <td>1</td>\n",
       "      <td>600</td>\n",
       "      <td>2019-04-12 14:38:00</td>\n",
       "      <td>669 Spruce St, Los Angeles, CA 90001</td>\n",
       "      <td>2019-04-12</td>\n",
       "      <td>14:38</td>\n",
       "      <td>12</td>\n",
       "      <td>4</td>\n",
       "      <td>2019</td>\n",
       "    </tr>\n",
       "    <tr>\n",
       "      <th>4</th>\n",
       "      <td>176560</td>\n",
       "      <td>Wired Headphones</td>\n",
       "      <td>1</td>\n",
       "      <td>11.99</td>\n",
       "      <td>2019-04-12 14:38:00</td>\n",
       "      <td>669 Spruce St, Los Angeles, CA 90001</td>\n",
       "      <td>2019-04-12</td>\n",
       "      <td>14:38</td>\n",
       "      <td>12</td>\n",
       "      <td>4</td>\n",
       "      <td>2019</td>\n",
       "    </tr>\n",
       "    <tr>\n",
       "      <th>5</th>\n",
       "      <td>176561</td>\n",
       "      <td>Wired Headphones</td>\n",
       "      <td>1</td>\n",
       "      <td>11.99</td>\n",
       "      <td>2019-04-30 09:27:00</td>\n",
       "      <td>333 8th St, Los Angeles, CA 90001</td>\n",
       "      <td>2019-04-30</td>\n",
       "      <td>09:27</td>\n",
       "      <td>30</td>\n",
       "      <td>4</td>\n",
       "      <td>2019</td>\n",
       "    </tr>\n",
       "    <tr>\n",
       "      <th>...</th>\n",
       "      <td>...</td>\n",
       "      <td>...</td>\n",
       "      <td>...</td>\n",
       "      <td>...</td>\n",
       "      <td>...</td>\n",
       "      <td>...</td>\n",
       "      <td>...</td>\n",
       "      <td>...</td>\n",
       "      <td>...</td>\n",
       "      <td>...</td>\n",
       "      <td>...</td>\n",
       "    </tr>\n",
       "    <tr>\n",
       "      <th>18378</th>\n",
       "      <td>194090</td>\n",
       "      <td>Google Phone</td>\n",
       "      <td>1</td>\n",
       "      <td>600</td>\n",
       "      <td>2019-04-08 17:11:00</td>\n",
       "      <td>177 Jackson St, Los Angeles, CA 90001</td>\n",
       "      <td>2019-04-08</td>\n",
       "      <td>17:11</td>\n",
       "      <td>8</td>\n",
       "      <td>4</td>\n",
       "      <td>2019</td>\n",
       "    </tr>\n",
       "    <tr>\n",
       "      <th>18379</th>\n",
       "      <td>194091</td>\n",
       "      <td>AA Batteries (4-pack)</td>\n",
       "      <td>1</td>\n",
       "      <td>3.84</td>\n",
       "      <td>2019-04-15 16:02:00</td>\n",
       "      <td>311 Forest St, Austin, TX 73301</td>\n",
       "      <td>2019-04-15</td>\n",
       "      <td>16:02</td>\n",
       "      <td>15</td>\n",
       "      <td>4</td>\n",
       "      <td>2019</td>\n",
       "    </tr>\n",
       "    <tr>\n",
       "      <th>18380</th>\n",
       "      <td>194092</td>\n",
       "      <td>AAA Batteries (4-pack)</td>\n",
       "      <td>2</td>\n",
       "      <td>2.99</td>\n",
       "      <td>2019-04-28 14:36:00</td>\n",
       "      <td>347 Sunset St, San Francisco, CA 94016</td>\n",
       "      <td>2019-04-28</td>\n",
       "      <td>14:36</td>\n",
       "      <td>28</td>\n",
       "      <td>4</td>\n",
       "      <td>2019</td>\n",
       "    </tr>\n",
       "    <tr>\n",
       "      <th>18381</th>\n",
       "      <td>194093</td>\n",
       "      <td>AA Batteries (4-pack)</td>\n",
       "      <td>1</td>\n",
       "      <td>3.84</td>\n",
       "      <td>2019-04-14 15:09:00</td>\n",
       "      <td>835 Lake St, Portland, OR 97035</td>\n",
       "      <td>2019-04-14</td>\n",
       "      <td>15:09</td>\n",
       "      <td>14</td>\n",
       "      <td>4</td>\n",
       "      <td>2019</td>\n",
       "    </tr>\n",
       "    <tr>\n",
       "      <th>18382</th>\n",
       "      <td>194094</td>\n",
       "      <td>Lightning Charging Cable</td>\n",
       "      <td>1</td>\n",
       "      <td>14.95</td>\n",
       "      <td>2019-04-18 11:08:00</td>\n",
       "      <td>354 North St, Boston, MA 02215</td>\n",
       "      <td>2019-04-18</td>\n",
       "      <td>11:08</td>\n",
       "      <td>18</td>\n",
       "      <td>4</td>\n",
       "      <td>2019</td>\n",
       "    </tr>\n",
       "  </tbody>\n",
       "</table>\n",
       "<p>18289 rows × 11 columns</p>\n",
       "</div>"
      ],
      "text/plain": [
       "      Order ID                     Product Quantity Ordered Price Each  \\\n",
       "0       176558        USB-C Charging Cable                2      11.95   \n",
       "2       176559  Bose SoundSport Headphones                1      99.99   \n",
       "3       176560                Google Phone                1        600   \n",
       "4       176560            Wired Headphones                1      11.99   \n",
       "5       176561            Wired Headphones                1      11.99   \n",
       "...        ...                         ...              ...        ...   \n",
       "18378   194090                Google Phone                1        600   \n",
       "18379   194091       AA Batteries (4-pack)                1       3.84   \n",
       "18380   194092      AAA Batteries (4-pack)                2       2.99   \n",
       "18381   194093       AA Batteries (4-pack)                1       3.84   \n",
       "18382   194094    Lightning Charging Cable                1      14.95   \n",
       "\n",
       "               Order Date                        Purchase Address       date  \\\n",
       "0     2019-04-19 08:46:00            917 1st St, Dallas, TX 75001 2019-04-19   \n",
       "2     2019-04-07 22:30:00       682 Chestnut St, Boston, MA 02215 2019-04-07   \n",
       "3     2019-04-12 14:38:00    669 Spruce St, Los Angeles, CA 90001 2019-04-12   \n",
       "4     2019-04-12 14:38:00    669 Spruce St, Los Angeles, CA 90001 2019-04-12   \n",
       "5     2019-04-30 09:27:00       333 8th St, Los Angeles, CA 90001 2019-04-30   \n",
       "...                   ...                                     ...        ...   \n",
       "18378 2019-04-08 17:11:00   177 Jackson St, Los Angeles, CA 90001 2019-04-08   \n",
       "18379 2019-04-15 16:02:00         311 Forest St, Austin, TX 73301 2019-04-15   \n",
       "18380 2019-04-28 14:36:00  347 Sunset St, San Francisco, CA 94016 2019-04-28   \n",
       "18381 2019-04-14 15:09:00         835 Lake St, Portland, OR 97035 2019-04-14   \n",
       "18382 2019-04-18 11:08:00          354 North St, Boston, MA 02215 2019-04-18   \n",
       "\n",
       "        time  Day  Month  Year  \n",
       "0      08:46   19      4  2019  \n",
       "2      22:30    7      4  2019  \n",
       "3      14:38   12      4  2019  \n",
       "4      14:38   12      4  2019  \n",
       "5      09:27   30      4  2019  \n",
       "...      ...  ...    ...   ...  \n",
       "18378  17:11    8      4  2019  \n",
       "18379  16:02   15      4  2019  \n",
       "18380  14:36   28      4  2019  \n",
       "18381  15:09   14      4  2019  \n",
       "18382  11:08   18      4  2019  \n",
       "\n",
       "[18289 rows x 11 columns]"
      ]
     },
     "execution_count": 18,
     "metadata": {},
     "output_type": "execute_result"
    }
   ],
   "source": [
    "df"
   ]
  },
  {
   "cell_type": "code",
   "execution_count": 19,
   "id": "bdf4b94d-4fee-474e-9466-6c2a63365706",
   "metadata": {},
   "outputs": [
    {
     "name": "stdout",
     "output_type": "stream",
     "text": [
      "<class 'pandas.core.frame.DataFrame'>\n",
      "Index: 18289 entries, 0 to 18382\n",
      "Data columns (total 11 columns):\n",
      " #   Column            Non-Null Count  Dtype         \n",
      "---  ------            --------------  -----         \n",
      " 0   Order ID          18289 non-null  object        \n",
      " 1   Product           18289 non-null  object        \n",
      " 2   Quantity Ordered  18289 non-null  object        \n",
      " 3   Price Each        18289 non-null  object        \n",
      " 4   Order Date        18289 non-null  datetime64[ns]\n",
      " 5   Purchase Address  18289 non-null  object        \n",
      " 6   date              18289 non-null  datetime64[ns]\n",
      " 7   time              18289 non-null  object        \n",
      " 8   Day               18289 non-null  int32         \n",
      " 9   Month             18289 non-null  int32         \n",
      " 10  Year              18289 non-null  int32         \n",
      "dtypes: datetime64[ns](2), int32(3), object(6)\n",
      "memory usage: 1.5+ MB\n"
     ]
    }
   ],
   "source": [
    "df.info()"
   ]
  },
  {
   "cell_type": "code",
   "execution_count": 20,
   "id": "2e222bbf-e323-48f4-82b6-7f97ad9f0bce",
   "metadata": {},
   "outputs": [],
   "source": [
    "df['time'] = pd.to_datetime(df['time'], format='%H:%M', errors='coerce')\n",
    "df['Hour'] = df['time'].dt.hour\n",
    "df['Minute'] = df['time'].dt.minute"
   ]
  },
  {
   "cell_type": "code",
   "execution_count": 21,
   "id": "0fa64776-968e-4bc6-9753-faef81377268",
   "metadata": {},
   "outputs": [
    {
     "data": {
      "text/html": [
       "<div>\n",
       "<style scoped>\n",
       "    .dataframe tbody tr th:only-of-type {\n",
       "        vertical-align: middle;\n",
       "    }\n",
       "\n",
       "    .dataframe tbody tr th {\n",
       "        vertical-align: top;\n",
       "    }\n",
       "\n",
       "    .dataframe thead th {\n",
       "        text-align: right;\n",
       "    }\n",
       "</style>\n",
       "<table border=\"1\" class=\"dataframe\">\n",
       "  <thead>\n",
       "    <tr style=\"text-align: right;\">\n",
       "      <th></th>\n",
       "      <th>Order ID</th>\n",
       "      <th>Product</th>\n",
       "      <th>Quantity Ordered</th>\n",
       "      <th>Price Each</th>\n",
       "      <th>Order Date</th>\n",
       "      <th>Purchase Address</th>\n",
       "      <th>date</th>\n",
       "      <th>time</th>\n",
       "      <th>Day</th>\n",
       "      <th>Month</th>\n",
       "      <th>Year</th>\n",
       "      <th>Hour</th>\n",
       "      <th>Minute</th>\n",
       "    </tr>\n",
       "  </thead>\n",
       "  <tbody>\n",
       "    <tr>\n",
       "      <th>0</th>\n",
       "      <td>176558</td>\n",
       "      <td>USB-C Charging Cable</td>\n",
       "      <td>2</td>\n",
       "      <td>11.95</td>\n",
       "      <td>2019-04-19 08:46:00</td>\n",
       "      <td>917 1st St, Dallas, TX 75001</td>\n",
       "      <td>2019-04-19</td>\n",
       "      <td>1900-01-01 08:46:00</td>\n",
       "      <td>19</td>\n",
       "      <td>4</td>\n",
       "      <td>2019</td>\n",
       "      <td>8</td>\n",
       "      <td>46</td>\n",
       "    </tr>\n",
       "    <tr>\n",
       "      <th>2</th>\n",
       "      <td>176559</td>\n",
       "      <td>Bose SoundSport Headphones</td>\n",
       "      <td>1</td>\n",
       "      <td>99.99</td>\n",
       "      <td>2019-04-07 22:30:00</td>\n",
       "      <td>682 Chestnut St, Boston, MA 02215</td>\n",
       "      <td>2019-04-07</td>\n",
       "      <td>1900-01-01 22:30:00</td>\n",
       "      <td>7</td>\n",
       "      <td>4</td>\n",
       "      <td>2019</td>\n",
       "      <td>22</td>\n",
       "      <td>30</td>\n",
       "    </tr>\n",
       "    <tr>\n",
       "      <th>3</th>\n",
       "      <td>176560</td>\n",
       "      <td>Google Phone</td>\n",
       "      <td>1</td>\n",
       "      <td>600</td>\n",
       "      <td>2019-04-12 14:38:00</td>\n",
       "      <td>669 Spruce St, Los Angeles, CA 90001</td>\n",
       "      <td>2019-04-12</td>\n",
       "      <td>1900-01-01 14:38:00</td>\n",
       "      <td>12</td>\n",
       "      <td>4</td>\n",
       "      <td>2019</td>\n",
       "      <td>14</td>\n",
       "      <td>38</td>\n",
       "    </tr>\n",
       "    <tr>\n",
       "      <th>4</th>\n",
       "      <td>176560</td>\n",
       "      <td>Wired Headphones</td>\n",
       "      <td>1</td>\n",
       "      <td>11.99</td>\n",
       "      <td>2019-04-12 14:38:00</td>\n",
       "      <td>669 Spruce St, Los Angeles, CA 90001</td>\n",
       "      <td>2019-04-12</td>\n",
       "      <td>1900-01-01 14:38:00</td>\n",
       "      <td>12</td>\n",
       "      <td>4</td>\n",
       "      <td>2019</td>\n",
       "      <td>14</td>\n",
       "      <td>38</td>\n",
       "    </tr>\n",
       "    <tr>\n",
       "      <th>5</th>\n",
       "      <td>176561</td>\n",
       "      <td>Wired Headphones</td>\n",
       "      <td>1</td>\n",
       "      <td>11.99</td>\n",
       "      <td>2019-04-30 09:27:00</td>\n",
       "      <td>333 8th St, Los Angeles, CA 90001</td>\n",
       "      <td>2019-04-30</td>\n",
       "      <td>1900-01-01 09:27:00</td>\n",
       "      <td>30</td>\n",
       "      <td>4</td>\n",
       "      <td>2019</td>\n",
       "      <td>9</td>\n",
       "      <td>27</td>\n",
       "    </tr>\n",
       "    <tr>\n",
       "      <th>...</th>\n",
       "      <td>...</td>\n",
       "      <td>...</td>\n",
       "      <td>...</td>\n",
       "      <td>...</td>\n",
       "      <td>...</td>\n",
       "      <td>...</td>\n",
       "      <td>...</td>\n",
       "      <td>...</td>\n",
       "      <td>...</td>\n",
       "      <td>...</td>\n",
       "      <td>...</td>\n",
       "      <td>...</td>\n",
       "      <td>...</td>\n",
       "    </tr>\n",
       "    <tr>\n",
       "      <th>18378</th>\n",
       "      <td>194090</td>\n",
       "      <td>Google Phone</td>\n",
       "      <td>1</td>\n",
       "      <td>600</td>\n",
       "      <td>2019-04-08 17:11:00</td>\n",
       "      <td>177 Jackson St, Los Angeles, CA 90001</td>\n",
       "      <td>2019-04-08</td>\n",
       "      <td>1900-01-01 17:11:00</td>\n",
       "      <td>8</td>\n",
       "      <td>4</td>\n",
       "      <td>2019</td>\n",
       "      <td>17</td>\n",
       "      <td>11</td>\n",
       "    </tr>\n",
       "    <tr>\n",
       "      <th>18379</th>\n",
       "      <td>194091</td>\n",
       "      <td>AA Batteries (4-pack)</td>\n",
       "      <td>1</td>\n",
       "      <td>3.84</td>\n",
       "      <td>2019-04-15 16:02:00</td>\n",
       "      <td>311 Forest St, Austin, TX 73301</td>\n",
       "      <td>2019-04-15</td>\n",
       "      <td>1900-01-01 16:02:00</td>\n",
       "      <td>15</td>\n",
       "      <td>4</td>\n",
       "      <td>2019</td>\n",
       "      <td>16</td>\n",
       "      <td>2</td>\n",
       "    </tr>\n",
       "    <tr>\n",
       "      <th>18380</th>\n",
       "      <td>194092</td>\n",
       "      <td>AAA Batteries (4-pack)</td>\n",
       "      <td>2</td>\n",
       "      <td>2.99</td>\n",
       "      <td>2019-04-28 14:36:00</td>\n",
       "      <td>347 Sunset St, San Francisco, CA 94016</td>\n",
       "      <td>2019-04-28</td>\n",
       "      <td>1900-01-01 14:36:00</td>\n",
       "      <td>28</td>\n",
       "      <td>4</td>\n",
       "      <td>2019</td>\n",
       "      <td>14</td>\n",
       "      <td>36</td>\n",
       "    </tr>\n",
       "    <tr>\n",
       "      <th>18381</th>\n",
       "      <td>194093</td>\n",
       "      <td>AA Batteries (4-pack)</td>\n",
       "      <td>1</td>\n",
       "      <td>3.84</td>\n",
       "      <td>2019-04-14 15:09:00</td>\n",
       "      <td>835 Lake St, Portland, OR 97035</td>\n",
       "      <td>2019-04-14</td>\n",
       "      <td>1900-01-01 15:09:00</td>\n",
       "      <td>14</td>\n",
       "      <td>4</td>\n",
       "      <td>2019</td>\n",
       "      <td>15</td>\n",
       "      <td>9</td>\n",
       "    </tr>\n",
       "    <tr>\n",
       "      <th>18382</th>\n",
       "      <td>194094</td>\n",
       "      <td>Lightning Charging Cable</td>\n",
       "      <td>1</td>\n",
       "      <td>14.95</td>\n",
       "      <td>2019-04-18 11:08:00</td>\n",
       "      <td>354 North St, Boston, MA 02215</td>\n",
       "      <td>2019-04-18</td>\n",
       "      <td>1900-01-01 11:08:00</td>\n",
       "      <td>18</td>\n",
       "      <td>4</td>\n",
       "      <td>2019</td>\n",
       "      <td>11</td>\n",
       "      <td>8</td>\n",
       "    </tr>\n",
       "  </tbody>\n",
       "</table>\n",
       "<p>18289 rows × 13 columns</p>\n",
       "</div>"
      ],
      "text/plain": [
       "      Order ID                     Product Quantity Ordered Price Each  \\\n",
       "0       176558        USB-C Charging Cable                2      11.95   \n",
       "2       176559  Bose SoundSport Headphones                1      99.99   \n",
       "3       176560                Google Phone                1        600   \n",
       "4       176560            Wired Headphones                1      11.99   \n",
       "5       176561            Wired Headphones                1      11.99   \n",
       "...        ...                         ...              ...        ...   \n",
       "18378   194090                Google Phone                1        600   \n",
       "18379   194091       AA Batteries (4-pack)                1       3.84   \n",
       "18380   194092      AAA Batteries (4-pack)                2       2.99   \n",
       "18381   194093       AA Batteries (4-pack)                1       3.84   \n",
       "18382   194094    Lightning Charging Cable                1      14.95   \n",
       "\n",
       "               Order Date                        Purchase Address       date  \\\n",
       "0     2019-04-19 08:46:00            917 1st St, Dallas, TX 75001 2019-04-19   \n",
       "2     2019-04-07 22:30:00       682 Chestnut St, Boston, MA 02215 2019-04-07   \n",
       "3     2019-04-12 14:38:00    669 Spruce St, Los Angeles, CA 90001 2019-04-12   \n",
       "4     2019-04-12 14:38:00    669 Spruce St, Los Angeles, CA 90001 2019-04-12   \n",
       "5     2019-04-30 09:27:00       333 8th St, Los Angeles, CA 90001 2019-04-30   \n",
       "...                   ...                                     ...        ...   \n",
       "18378 2019-04-08 17:11:00   177 Jackson St, Los Angeles, CA 90001 2019-04-08   \n",
       "18379 2019-04-15 16:02:00         311 Forest St, Austin, TX 73301 2019-04-15   \n",
       "18380 2019-04-28 14:36:00  347 Sunset St, San Francisco, CA 94016 2019-04-28   \n",
       "18381 2019-04-14 15:09:00         835 Lake St, Portland, OR 97035 2019-04-14   \n",
       "18382 2019-04-18 11:08:00          354 North St, Boston, MA 02215 2019-04-18   \n",
       "\n",
       "                     time  Day  Month  Year  Hour  Minute  \n",
       "0     1900-01-01 08:46:00   19      4  2019     8      46  \n",
       "2     1900-01-01 22:30:00    7      4  2019    22      30  \n",
       "3     1900-01-01 14:38:00   12      4  2019    14      38  \n",
       "4     1900-01-01 14:38:00   12      4  2019    14      38  \n",
       "5     1900-01-01 09:27:00   30      4  2019     9      27  \n",
       "...                   ...  ...    ...   ...   ...     ...  \n",
       "18378 1900-01-01 17:11:00    8      4  2019    17      11  \n",
       "18379 1900-01-01 16:02:00   15      4  2019    16       2  \n",
       "18380 1900-01-01 14:36:00   28      4  2019    14      36  \n",
       "18381 1900-01-01 15:09:00   14      4  2019    15       9  \n",
       "18382 1900-01-01 11:08:00   18      4  2019    11       8  \n",
       "\n",
       "[18289 rows x 13 columns]"
      ]
     },
     "execution_count": 21,
     "metadata": {},
     "output_type": "execute_result"
    }
   ],
   "source": [
    "df"
   ]
  },
  {
   "cell_type": "code",
   "execution_count": 22,
   "id": "408b4a68-a354-4efc-948d-43cda84c1e57",
   "metadata": {},
   "outputs": [
    {
     "data": {
      "text/plain": [
       "array([['176558', 'USB-C Charging Cable', '2', ..., 2019, 8, 46],\n",
       "       ['176559', 'Bose SoundSport Headphones', '1', ..., 2019, 22, 30],\n",
       "       ['176560', 'Google Phone', '1', ..., 2019, 14, 38],\n",
       "       ...,\n",
       "       ['194092', 'AAA Batteries (4-pack)', '2', ..., 2019, 14, 36],\n",
       "       ['194093', 'AA Batteries (4-pack)', '1', ..., 2019, 15, 9],\n",
       "       ['194094', 'Lightning Charging Cable', '1', ..., 2019, 11, 8]],\n",
       "      dtype=object)"
      ]
     },
     "execution_count": 22,
     "metadata": {},
     "output_type": "execute_result"
    }
   ],
   "source": [
    "df.values"
   ]
  },
  {
   "cell_type": "code",
   "execution_count": 23,
   "id": "23428f2c-15bf-4b8d-8632-8fb629904bb6",
   "metadata": {},
   "outputs": [
    {
     "name": "stdout",
     "output_type": "stream",
     "text": [
      "Order ID            17537\n",
      "Product                19\n",
      "Quantity Ordered        7\n",
      "Price Each             18\n",
      "Order Date          13583\n",
      "Purchase Address    17119\n",
      "date                   31\n",
      "time                 1400\n",
      "Day                    30\n",
      "Month                   2\n",
      "Year                    1\n",
      "Hour                   24\n",
      "Minute                 60\n",
      "dtype: int64\n"
     ]
    }
   ],
   "source": [
    "unique_count=df.nunique()\n",
    "print(unique_count)"
   ]
  },
  {
   "cell_type": "code",
   "execution_count": 24,
   "id": "cccc8e87-cfb1-4371-bce6-5e3cefde1f5f",
   "metadata": {},
   "outputs": [],
   "source": [
    "# df.groupby('Product',inplace=True)"
   ]
  },
  {
   "cell_type": "code",
   "execution_count": 25,
   "id": "39ea2d5e-4714-4d32-ac93-05a61aa2ffa2",
   "metadata": {},
   "outputs": [
    {
     "data": {
      "text/plain": [
       "(18289, 13)"
      ]
     },
     "execution_count": 25,
     "metadata": {},
     "output_type": "execute_result"
    }
   ],
   "source": [
    "df.shape"
   ]
  },
  {
   "cell_type": "code",
   "execution_count": 26,
   "id": "91a554b5-b220-4e60-b97e-5a981eeb5cb2",
   "metadata": {},
   "outputs": [
    {
     "name": "stdout",
     "output_type": "stream",
     "text": [
      "  Order ID                     Product Quantity Ordered Price Each  \\\n",
      "0   176558        USB-C Charging Cable                2      11.95   \n",
      "2   176559  Bose SoundSport Headphones                1      99.99   \n",
      "3   176560                Google Phone                1        600   \n",
      "4   176560            Wired Headphones                1      11.99   \n",
      "5   176561            Wired Headphones                1      11.99   \n",
      "\n",
      "           Order Date                      Purchase Address       date  \\\n",
      "0 2019-04-19 08:46:00          917 1st St, Dallas, TX 75001 2019-04-19   \n",
      "2 2019-04-07 22:30:00     682 Chestnut St, Boston, MA 02215 2019-04-07   \n",
      "3 2019-04-12 14:38:00  669 Spruce St, Los Angeles, CA 90001 2019-04-12   \n",
      "4 2019-04-12 14:38:00  669 Spruce St, Los Angeles, CA 90001 2019-04-12   \n",
      "5 2019-04-30 09:27:00     333 8th St, Los Angeles, CA 90001 2019-04-30   \n",
      "\n",
      "                 time  Day  Month  Year  Hour  Minute  \n",
      "0 1900-01-01 08:46:00   19      4  2019     8      46  \n",
      "2 1900-01-01 22:30:00    7      4  2019    22      30  \n",
      "3 1900-01-01 14:38:00   12      4  2019    14      38  \n",
      "4 1900-01-01 14:38:00   12      4  2019    14      38  \n",
      "5 1900-01-01 09:27:00   30      4  2019     9      27  \n"
     ]
    }
   ],
   "source": [
    "print(df.head())\n",
    "# print(df.tail())\n",
    "# print(df.sample(5))\n"
   ]
  },
  {
   "cell_type": "code",
   "execution_count": 27,
   "id": "2b8cf0ca-47d0-4d76-aec6-5398728fd5db",
   "metadata": {},
   "outputs": [],
   "source": [
    "df = df.drop(columns=['date','time'])"
   ]
  },
  {
   "cell_type": "code",
   "execution_count": 28,
   "id": "0101db29-59f8-45a9-9001-193150759f20",
   "metadata": {},
   "outputs": [
    {
     "data": {
      "text/html": [
       "<div>\n",
       "<style scoped>\n",
       "    .dataframe tbody tr th:only-of-type {\n",
       "        vertical-align: middle;\n",
       "    }\n",
       "\n",
       "    .dataframe tbody tr th {\n",
       "        vertical-align: top;\n",
       "    }\n",
       "\n",
       "    .dataframe thead th {\n",
       "        text-align: right;\n",
       "    }\n",
       "</style>\n",
       "<table border=\"1\" class=\"dataframe\">\n",
       "  <thead>\n",
       "    <tr style=\"text-align: right;\">\n",
       "      <th></th>\n",
       "      <th>Order Date</th>\n",
       "      <th>Day</th>\n",
       "      <th>Month</th>\n",
       "      <th>Year</th>\n",
       "      <th>Hour</th>\n",
       "      <th>Minute</th>\n",
       "    </tr>\n",
       "  </thead>\n",
       "  <tbody>\n",
       "    <tr>\n",
       "      <th>count</th>\n",
       "      <td>18289</td>\n",
       "      <td>18289.000000</td>\n",
       "      <td>18289.000000</td>\n",
       "      <td>18289.0</td>\n",
       "      <td>18289.000000</td>\n",
       "      <td>18289.000000</td>\n",
       "    </tr>\n",
       "    <tr>\n",
       "      <th>mean</th>\n",
       "      <td>2019-04-16 03:16:12.443545344</td>\n",
       "      <td>15.472142</td>\n",
       "      <td>4.001531</td>\n",
       "      <td>2019.0</td>\n",
       "      <td>14.340095</td>\n",
       "      <td>29.779485</td>\n",
       "    </tr>\n",
       "    <tr>\n",
       "      <th>min</th>\n",
       "      <td>2019-04-01 03:09:00</td>\n",
       "      <td>1.000000</td>\n",
       "      <td>4.000000</td>\n",
       "      <td>2019.0</td>\n",
       "      <td>0.000000</td>\n",
       "      <td>0.000000</td>\n",
       "    </tr>\n",
       "    <tr>\n",
       "      <th>25%</th>\n",
       "      <td>2019-04-08 17:09:00</td>\n",
       "      <td>8.000000</td>\n",
       "      <td>4.000000</td>\n",
       "      <td>2019.0</td>\n",
       "      <td>11.000000</td>\n",
       "      <td>15.000000</td>\n",
       "    </tr>\n",
       "    <tr>\n",
       "      <th>50%</th>\n",
       "      <td>2019-04-16 00:47:00</td>\n",
       "      <td>15.000000</td>\n",
       "      <td>4.000000</td>\n",
       "      <td>2019.0</td>\n",
       "      <td>15.000000</td>\n",
       "      <td>30.000000</td>\n",
       "    </tr>\n",
       "    <tr>\n",
       "      <th>75%</th>\n",
       "      <td>2019-04-23 15:18:00</td>\n",
       "      <td>23.000000</td>\n",
       "      <td>4.000000</td>\n",
       "      <td>2019.0</td>\n",
       "      <td>19.000000</td>\n",
       "      <td>45.000000</td>\n",
       "    </tr>\n",
       "    <tr>\n",
       "      <th>max</th>\n",
       "      <td>2019-05-01 04:25:00</td>\n",
       "      <td>30.000000</td>\n",
       "      <td>5.000000</td>\n",
       "      <td>2019.0</td>\n",
       "      <td>23.000000</td>\n",
       "      <td>59.000000</td>\n",
       "    </tr>\n",
       "    <tr>\n",
       "      <th>std</th>\n",
       "      <td>NaN</td>\n",
       "      <td>8.628677</td>\n",
       "      <td>0.039099</td>\n",
       "      <td>0.0</td>\n",
       "      <td>5.431172</td>\n",
       "      <td>17.473739</td>\n",
       "    </tr>\n",
       "  </tbody>\n",
       "</table>\n",
       "</div>"
      ],
      "text/plain": [
       "                          Order Date           Day         Month     Year  \\\n",
       "count                          18289  18289.000000  18289.000000  18289.0   \n",
       "mean   2019-04-16 03:16:12.443545344     15.472142      4.001531   2019.0   \n",
       "min              2019-04-01 03:09:00      1.000000      4.000000   2019.0   \n",
       "25%              2019-04-08 17:09:00      8.000000      4.000000   2019.0   \n",
       "50%              2019-04-16 00:47:00     15.000000      4.000000   2019.0   \n",
       "75%              2019-04-23 15:18:00     23.000000      4.000000   2019.0   \n",
       "max              2019-05-01 04:25:00     30.000000      5.000000   2019.0   \n",
       "std                              NaN      8.628677      0.039099      0.0   \n",
       "\n",
       "               Hour        Minute  \n",
       "count  18289.000000  18289.000000  \n",
       "mean      14.340095     29.779485  \n",
       "min        0.000000      0.000000  \n",
       "25%       11.000000     15.000000  \n",
       "50%       15.000000     30.000000  \n",
       "75%       19.000000     45.000000  \n",
       "max       23.000000     59.000000  \n",
       "std        5.431172     17.473739  "
      ]
     },
     "execution_count": 28,
     "metadata": {},
     "output_type": "execute_result"
    }
   ],
   "source": [
    "df.describe()"
   ]
  },
  {
   "cell_type": "code",
   "execution_count": 29,
   "id": "52ceec93-4011-421b-aefb-10a2d4a99cb4",
   "metadata": {},
   "outputs": [
    {
     "data": {
      "text/plain": [
       "Order ID            0\n",
       "Product             0\n",
       "Quantity Ordered    0\n",
       "Price Each          0\n",
       "Order Date          0\n",
       "Purchase Address    0\n",
       "Day                 0\n",
       "Month               0\n",
       "Year                0\n",
       "Hour                0\n",
       "Minute              0\n",
       "dtype: int64"
      ]
     },
     "execution_count": 29,
     "metadata": {},
     "output_type": "execute_result"
    }
   ],
   "source": [
    "df.isnull().sum()"
   ]
  },
  {
   "cell_type": "code",
   "execution_count": 30,
   "id": "091ba4e6-f211-4b41-b4ae-5d5010e5285b",
   "metadata": {},
   "outputs": [
    {
     "data": {
      "text/html": [
       "<div>\n",
       "<style scoped>\n",
       "    .dataframe tbody tr th:only-of-type {\n",
       "        vertical-align: middle;\n",
       "    }\n",
       "\n",
       "    .dataframe tbody tr th {\n",
       "        vertical-align: top;\n",
       "    }\n",
       "\n",
       "    .dataframe thead th {\n",
       "        text-align: right;\n",
       "    }\n",
       "</style>\n",
       "<table border=\"1\" class=\"dataframe\">\n",
       "  <thead>\n",
       "    <tr style=\"text-align: right;\">\n",
       "      <th></th>\n",
       "      <th>Order ID</th>\n",
       "      <th>Product</th>\n",
       "      <th>Quantity Ordered</th>\n",
       "      <th>Price Each</th>\n",
       "      <th>Order Date</th>\n",
       "      <th>Purchase Address</th>\n",
       "      <th>Day</th>\n",
       "      <th>Month</th>\n",
       "      <th>Year</th>\n",
       "      <th>Hour</th>\n",
       "      <th>Minute</th>\n",
       "    </tr>\n",
       "  </thead>\n",
       "  <tbody>\n",
       "    <tr>\n",
       "      <th>0</th>\n",
       "      <td>176558</td>\n",
       "      <td>USB-C Charging Cable</td>\n",
       "      <td>2</td>\n",
       "      <td>11.95</td>\n",
       "      <td>2019-04-19 08:46:00</td>\n",
       "      <td>917 1st St, Dallas, TX 75001</td>\n",
       "      <td>19</td>\n",
       "      <td>4</td>\n",
       "      <td>2019</td>\n",
       "      <td>8</td>\n",
       "      <td>46</td>\n",
       "    </tr>\n",
       "    <tr>\n",
       "      <th>2</th>\n",
       "      <td>176559</td>\n",
       "      <td>Bose SoundSport Headphones</td>\n",
       "      <td>1</td>\n",
       "      <td>99.99</td>\n",
       "      <td>2019-04-07 22:30:00</td>\n",
       "      <td>682 Chestnut St, Boston, MA 02215</td>\n",
       "      <td>7</td>\n",
       "      <td>4</td>\n",
       "      <td>2019</td>\n",
       "      <td>22</td>\n",
       "      <td>30</td>\n",
       "    </tr>\n",
       "    <tr>\n",
       "      <th>3</th>\n",
       "      <td>176560</td>\n",
       "      <td>Google Phone</td>\n",
       "      <td>1</td>\n",
       "      <td>600</td>\n",
       "      <td>2019-04-12 14:38:00</td>\n",
       "      <td>669 Spruce St, Los Angeles, CA 90001</td>\n",
       "      <td>12</td>\n",
       "      <td>4</td>\n",
       "      <td>2019</td>\n",
       "      <td>14</td>\n",
       "      <td>38</td>\n",
       "    </tr>\n",
       "    <tr>\n",
       "      <th>4</th>\n",
       "      <td>176560</td>\n",
       "      <td>Wired Headphones</td>\n",
       "      <td>1</td>\n",
       "      <td>11.99</td>\n",
       "      <td>2019-04-12 14:38:00</td>\n",
       "      <td>669 Spruce St, Los Angeles, CA 90001</td>\n",
       "      <td>12</td>\n",
       "      <td>4</td>\n",
       "      <td>2019</td>\n",
       "      <td>14</td>\n",
       "      <td>38</td>\n",
       "    </tr>\n",
       "    <tr>\n",
       "      <th>5</th>\n",
       "      <td>176561</td>\n",
       "      <td>Wired Headphones</td>\n",
       "      <td>1</td>\n",
       "      <td>11.99</td>\n",
       "      <td>2019-04-30 09:27:00</td>\n",
       "      <td>333 8th St, Los Angeles, CA 90001</td>\n",
       "      <td>30</td>\n",
       "      <td>4</td>\n",
       "      <td>2019</td>\n",
       "      <td>9</td>\n",
       "      <td>27</td>\n",
       "    </tr>\n",
       "    <tr>\n",
       "      <th>...</th>\n",
       "      <td>...</td>\n",
       "      <td>...</td>\n",
       "      <td>...</td>\n",
       "      <td>...</td>\n",
       "      <td>...</td>\n",
       "      <td>...</td>\n",
       "      <td>...</td>\n",
       "      <td>...</td>\n",
       "      <td>...</td>\n",
       "      <td>...</td>\n",
       "      <td>...</td>\n",
       "    </tr>\n",
       "    <tr>\n",
       "      <th>18378</th>\n",
       "      <td>194090</td>\n",
       "      <td>Google Phone</td>\n",
       "      <td>1</td>\n",
       "      <td>600</td>\n",
       "      <td>2019-04-08 17:11:00</td>\n",
       "      <td>177 Jackson St, Los Angeles, CA 90001</td>\n",
       "      <td>8</td>\n",
       "      <td>4</td>\n",
       "      <td>2019</td>\n",
       "      <td>17</td>\n",
       "      <td>11</td>\n",
       "    </tr>\n",
       "    <tr>\n",
       "      <th>18379</th>\n",
       "      <td>194091</td>\n",
       "      <td>AA Batteries (4-pack)</td>\n",
       "      <td>1</td>\n",
       "      <td>3.84</td>\n",
       "      <td>2019-04-15 16:02:00</td>\n",
       "      <td>311 Forest St, Austin, TX 73301</td>\n",
       "      <td>15</td>\n",
       "      <td>4</td>\n",
       "      <td>2019</td>\n",
       "      <td>16</td>\n",
       "      <td>2</td>\n",
       "    </tr>\n",
       "    <tr>\n",
       "      <th>18380</th>\n",
       "      <td>194092</td>\n",
       "      <td>AAA Batteries (4-pack)</td>\n",
       "      <td>2</td>\n",
       "      <td>2.99</td>\n",
       "      <td>2019-04-28 14:36:00</td>\n",
       "      <td>347 Sunset St, San Francisco, CA 94016</td>\n",
       "      <td>28</td>\n",
       "      <td>4</td>\n",
       "      <td>2019</td>\n",
       "      <td>14</td>\n",
       "      <td>36</td>\n",
       "    </tr>\n",
       "    <tr>\n",
       "      <th>18381</th>\n",
       "      <td>194093</td>\n",
       "      <td>AA Batteries (4-pack)</td>\n",
       "      <td>1</td>\n",
       "      <td>3.84</td>\n",
       "      <td>2019-04-14 15:09:00</td>\n",
       "      <td>835 Lake St, Portland, OR 97035</td>\n",
       "      <td>14</td>\n",
       "      <td>4</td>\n",
       "      <td>2019</td>\n",
       "      <td>15</td>\n",
       "      <td>9</td>\n",
       "    </tr>\n",
       "    <tr>\n",
       "      <th>18382</th>\n",
       "      <td>194094</td>\n",
       "      <td>Lightning Charging Cable</td>\n",
       "      <td>1</td>\n",
       "      <td>14.95</td>\n",
       "      <td>2019-04-18 11:08:00</td>\n",
       "      <td>354 North St, Boston, MA 02215</td>\n",
       "      <td>18</td>\n",
       "      <td>4</td>\n",
       "      <td>2019</td>\n",
       "      <td>11</td>\n",
       "      <td>8</td>\n",
       "    </tr>\n",
       "  </tbody>\n",
       "</table>\n",
       "<p>18289 rows × 11 columns</p>\n",
       "</div>"
      ],
      "text/plain": [
       "      Order ID                     Product Quantity Ordered Price Each  \\\n",
       "0       176558        USB-C Charging Cable                2      11.95   \n",
       "2       176559  Bose SoundSport Headphones                1      99.99   \n",
       "3       176560                Google Phone                1        600   \n",
       "4       176560            Wired Headphones                1      11.99   \n",
       "5       176561            Wired Headphones                1      11.99   \n",
       "...        ...                         ...              ...        ...   \n",
       "18378   194090                Google Phone                1        600   \n",
       "18379   194091       AA Batteries (4-pack)                1       3.84   \n",
       "18380   194092      AAA Batteries (4-pack)                2       2.99   \n",
       "18381   194093       AA Batteries (4-pack)                1       3.84   \n",
       "18382   194094    Lightning Charging Cable                1      14.95   \n",
       "\n",
       "               Order Date                        Purchase Address  Day  Month  \\\n",
       "0     2019-04-19 08:46:00            917 1st St, Dallas, TX 75001   19      4   \n",
       "2     2019-04-07 22:30:00       682 Chestnut St, Boston, MA 02215    7      4   \n",
       "3     2019-04-12 14:38:00    669 Spruce St, Los Angeles, CA 90001   12      4   \n",
       "4     2019-04-12 14:38:00    669 Spruce St, Los Angeles, CA 90001   12      4   \n",
       "5     2019-04-30 09:27:00       333 8th St, Los Angeles, CA 90001   30      4   \n",
       "...                   ...                                     ...  ...    ...   \n",
       "18378 2019-04-08 17:11:00   177 Jackson St, Los Angeles, CA 90001    8      4   \n",
       "18379 2019-04-15 16:02:00         311 Forest St, Austin, TX 73301   15      4   \n",
       "18380 2019-04-28 14:36:00  347 Sunset St, San Francisco, CA 94016   28      4   \n",
       "18381 2019-04-14 15:09:00         835 Lake St, Portland, OR 97035   14      4   \n",
       "18382 2019-04-18 11:08:00          354 North St, Boston, MA 02215   18      4   \n",
       "\n",
       "       Year  Hour  Minute  \n",
       "0      2019     8      46  \n",
       "2      2019    22      30  \n",
       "3      2019    14      38  \n",
       "4      2019    14      38  \n",
       "5      2019     9      27  \n",
       "...     ...   ...     ...  \n",
       "18378  2019    17      11  \n",
       "18379  2019    16       2  \n",
       "18380  2019    14      36  \n",
       "18381  2019    15       9  \n",
       "18382  2019    11       8  \n",
       "\n",
       "[18289 rows x 11 columns]"
      ]
     },
     "execution_count": 30,
     "metadata": {},
     "output_type": "execute_result"
    }
   ],
   "source": [
    "df"
   ]
  },
  {
   "cell_type": "markdown",
   "id": "8aa8866f-a8fa-4c2d-ba44-53bf6daae420",
   "metadata": {},
   "source": [
    "### Extracting City and State From the address"
   ]
  },
  {
   "cell_type": "code",
   "execution_count": 31,
   "id": "02335cf4-0b7d-4736-9334-65b7d850a6e8",
   "metadata": {},
   "outputs": [],
   "source": [
    "df['Purchase Address'] = df['Purchase Address'].apply(lambda x: x.split())"
   ]
  },
  {
   "cell_type": "code",
   "execution_count": 32,
   "id": "48ec5697-21aa-4368-bc37-8fe067cae1e8",
   "metadata": {},
   "outputs": [],
   "source": [
    "df['city']=df['Purchase Address'].apply(lambda x: x[-3])"
   ]
  },
  {
   "cell_type": "code",
   "execution_count": 33,
   "id": "3aecd3fb-8043-42b4-b983-47b7c354bb92",
   "metadata": {},
   "outputs": [],
   "source": [
    "df['state']=df['Purchase Address'].apply(lambda x:x[-2])\n",
    "df['pincode']=df['Purchase Address'].apply(lambda x:x[-1])"
   ]
  },
  {
   "cell_type": "code",
   "execution_count": 34,
   "id": "38d65790-df6b-42af-a2c5-4b777fc6cc13",
   "metadata": {},
   "outputs": [
    {
     "data": {
      "text/html": [
       "<div>\n",
       "<style scoped>\n",
       "    .dataframe tbody tr th:only-of-type {\n",
       "        vertical-align: middle;\n",
       "    }\n",
       "\n",
       "    .dataframe tbody tr th {\n",
       "        vertical-align: top;\n",
       "    }\n",
       "\n",
       "    .dataframe thead th {\n",
       "        text-align: right;\n",
       "    }\n",
       "</style>\n",
       "<table border=\"1\" class=\"dataframe\">\n",
       "  <thead>\n",
       "    <tr style=\"text-align: right;\">\n",
       "      <th></th>\n",
       "      <th>Order ID</th>\n",
       "      <th>Product</th>\n",
       "      <th>Quantity Ordered</th>\n",
       "      <th>Price Each</th>\n",
       "      <th>Order Date</th>\n",
       "      <th>Purchase Address</th>\n",
       "      <th>Day</th>\n",
       "      <th>Month</th>\n",
       "      <th>Year</th>\n",
       "      <th>Hour</th>\n",
       "      <th>Minute</th>\n",
       "      <th>city</th>\n",
       "      <th>state</th>\n",
       "      <th>pincode</th>\n",
       "    </tr>\n",
       "  </thead>\n",
       "  <tbody>\n",
       "    <tr>\n",
       "      <th>0</th>\n",
       "      <td>176558</td>\n",
       "      <td>USB-C Charging Cable</td>\n",
       "      <td>2</td>\n",
       "      <td>11.95</td>\n",
       "      <td>2019-04-19 08:46:00</td>\n",
       "      <td>[917, 1st, St,, Dallas,, TX, 75001]</td>\n",
       "      <td>19</td>\n",
       "      <td>4</td>\n",
       "      <td>2019</td>\n",
       "      <td>8</td>\n",
       "      <td>46</td>\n",
       "      <td>Dallas,</td>\n",
       "      <td>TX</td>\n",
       "      <td>75001</td>\n",
       "    </tr>\n",
       "    <tr>\n",
       "      <th>2</th>\n",
       "      <td>176559</td>\n",
       "      <td>Bose SoundSport Headphones</td>\n",
       "      <td>1</td>\n",
       "      <td>99.99</td>\n",
       "      <td>2019-04-07 22:30:00</td>\n",
       "      <td>[682, Chestnut, St,, Boston,, MA, 02215]</td>\n",
       "      <td>7</td>\n",
       "      <td>4</td>\n",
       "      <td>2019</td>\n",
       "      <td>22</td>\n",
       "      <td>30</td>\n",
       "      <td>Boston,</td>\n",
       "      <td>MA</td>\n",
       "      <td>02215</td>\n",
       "    </tr>\n",
       "    <tr>\n",
       "      <th>3</th>\n",
       "      <td>176560</td>\n",
       "      <td>Google Phone</td>\n",
       "      <td>1</td>\n",
       "      <td>600</td>\n",
       "      <td>2019-04-12 14:38:00</td>\n",
       "      <td>[669, Spruce, St,, Los, Angeles,, CA, 90001]</td>\n",
       "      <td>12</td>\n",
       "      <td>4</td>\n",
       "      <td>2019</td>\n",
       "      <td>14</td>\n",
       "      <td>38</td>\n",
       "      <td>Angeles,</td>\n",
       "      <td>CA</td>\n",
       "      <td>90001</td>\n",
       "    </tr>\n",
       "    <tr>\n",
       "      <th>4</th>\n",
       "      <td>176560</td>\n",
       "      <td>Wired Headphones</td>\n",
       "      <td>1</td>\n",
       "      <td>11.99</td>\n",
       "      <td>2019-04-12 14:38:00</td>\n",
       "      <td>[669, Spruce, St,, Los, Angeles,, CA, 90001]</td>\n",
       "      <td>12</td>\n",
       "      <td>4</td>\n",
       "      <td>2019</td>\n",
       "      <td>14</td>\n",
       "      <td>38</td>\n",
       "      <td>Angeles,</td>\n",
       "      <td>CA</td>\n",
       "      <td>90001</td>\n",
       "    </tr>\n",
       "    <tr>\n",
       "      <th>5</th>\n",
       "      <td>176561</td>\n",
       "      <td>Wired Headphones</td>\n",
       "      <td>1</td>\n",
       "      <td>11.99</td>\n",
       "      <td>2019-04-30 09:27:00</td>\n",
       "      <td>[333, 8th, St,, Los, Angeles,, CA, 90001]</td>\n",
       "      <td>30</td>\n",
       "      <td>4</td>\n",
       "      <td>2019</td>\n",
       "      <td>9</td>\n",
       "      <td>27</td>\n",
       "      <td>Angeles,</td>\n",
       "      <td>CA</td>\n",
       "      <td>90001</td>\n",
       "    </tr>\n",
       "    <tr>\n",
       "      <th>...</th>\n",
       "      <td>...</td>\n",
       "      <td>...</td>\n",
       "      <td>...</td>\n",
       "      <td>...</td>\n",
       "      <td>...</td>\n",
       "      <td>...</td>\n",
       "      <td>...</td>\n",
       "      <td>...</td>\n",
       "      <td>...</td>\n",
       "      <td>...</td>\n",
       "      <td>...</td>\n",
       "      <td>...</td>\n",
       "      <td>...</td>\n",
       "      <td>...</td>\n",
       "    </tr>\n",
       "    <tr>\n",
       "      <th>18378</th>\n",
       "      <td>194090</td>\n",
       "      <td>Google Phone</td>\n",
       "      <td>1</td>\n",
       "      <td>600</td>\n",
       "      <td>2019-04-08 17:11:00</td>\n",
       "      <td>[177, Jackson, St,, Los, Angeles,, CA, 90001]</td>\n",
       "      <td>8</td>\n",
       "      <td>4</td>\n",
       "      <td>2019</td>\n",
       "      <td>17</td>\n",
       "      <td>11</td>\n",
       "      <td>Angeles,</td>\n",
       "      <td>CA</td>\n",
       "      <td>90001</td>\n",
       "    </tr>\n",
       "    <tr>\n",
       "      <th>18379</th>\n",
       "      <td>194091</td>\n",
       "      <td>AA Batteries (4-pack)</td>\n",
       "      <td>1</td>\n",
       "      <td>3.84</td>\n",
       "      <td>2019-04-15 16:02:00</td>\n",
       "      <td>[311, Forest, St,, Austin,, TX, 73301]</td>\n",
       "      <td>15</td>\n",
       "      <td>4</td>\n",
       "      <td>2019</td>\n",
       "      <td>16</td>\n",
       "      <td>2</td>\n",
       "      <td>Austin,</td>\n",
       "      <td>TX</td>\n",
       "      <td>73301</td>\n",
       "    </tr>\n",
       "    <tr>\n",
       "      <th>18380</th>\n",
       "      <td>194092</td>\n",
       "      <td>AAA Batteries (4-pack)</td>\n",
       "      <td>2</td>\n",
       "      <td>2.99</td>\n",
       "      <td>2019-04-28 14:36:00</td>\n",
       "      <td>[347, Sunset, St,, San, Francisco,, CA, 94016]</td>\n",
       "      <td>28</td>\n",
       "      <td>4</td>\n",
       "      <td>2019</td>\n",
       "      <td>14</td>\n",
       "      <td>36</td>\n",
       "      <td>Francisco,</td>\n",
       "      <td>CA</td>\n",
       "      <td>94016</td>\n",
       "    </tr>\n",
       "    <tr>\n",
       "      <th>18381</th>\n",
       "      <td>194093</td>\n",
       "      <td>AA Batteries (4-pack)</td>\n",
       "      <td>1</td>\n",
       "      <td>3.84</td>\n",
       "      <td>2019-04-14 15:09:00</td>\n",
       "      <td>[835, Lake, St,, Portland,, OR, 97035]</td>\n",
       "      <td>14</td>\n",
       "      <td>4</td>\n",
       "      <td>2019</td>\n",
       "      <td>15</td>\n",
       "      <td>9</td>\n",
       "      <td>Portland,</td>\n",
       "      <td>OR</td>\n",
       "      <td>97035</td>\n",
       "    </tr>\n",
       "    <tr>\n",
       "      <th>18382</th>\n",
       "      <td>194094</td>\n",
       "      <td>Lightning Charging Cable</td>\n",
       "      <td>1</td>\n",
       "      <td>14.95</td>\n",
       "      <td>2019-04-18 11:08:00</td>\n",
       "      <td>[354, North, St,, Boston,, MA, 02215]</td>\n",
       "      <td>18</td>\n",
       "      <td>4</td>\n",
       "      <td>2019</td>\n",
       "      <td>11</td>\n",
       "      <td>8</td>\n",
       "      <td>Boston,</td>\n",
       "      <td>MA</td>\n",
       "      <td>02215</td>\n",
       "    </tr>\n",
       "  </tbody>\n",
       "</table>\n",
       "<p>18289 rows × 14 columns</p>\n",
       "</div>"
      ],
      "text/plain": [
       "      Order ID                     Product Quantity Ordered Price Each  \\\n",
       "0       176558        USB-C Charging Cable                2      11.95   \n",
       "2       176559  Bose SoundSport Headphones                1      99.99   \n",
       "3       176560                Google Phone                1        600   \n",
       "4       176560            Wired Headphones                1      11.99   \n",
       "5       176561            Wired Headphones                1      11.99   \n",
       "...        ...                         ...              ...        ...   \n",
       "18378   194090                Google Phone                1        600   \n",
       "18379   194091       AA Batteries (4-pack)                1       3.84   \n",
       "18380   194092      AAA Batteries (4-pack)                2       2.99   \n",
       "18381   194093       AA Batteries (4-pack)                1       3.84   \n",
       "18382   194094    Lightning Charging Cable                1      14.95   \n",
       "\n",
       "               Order Date                                Purchase Address  \\\n",
       "0     2019-04-19 08:46:00             [917, 1st, St,, Dallas,, TX, 75001]   \n",
       "2     2019-04-07 22:30:00        [682, Chestnut, St,, Boston,, MA, 02215]   \n",
       "3     2019-04-12 14:38:00    [669, Spruce, St,, Los, Angeles,, CA, 90001]   \n",
       "4     2019-04-12 14:38:00    [669, Spruce, St,, Los, Angeles,, CA, 90001]   \n",
       "5     2019-04-30 09:27:00       [333, 8th, St,, Los, Angeles,, CA, 90001]   \n",
       "...                   ...                                             ...   \n",
       "18378 2019-04-08 17:11:00   [177, Jackson, St,, Los, Angeles,, CA, 90001]   \n",
       "18379 2019-04-15 16:02:00          [311, Forest, St,, Austin,, TX, 73301]   \n",
       "18380 2019-04-28 14:36:00  [347, Sunset, St,, San, Francisco,, CA, 94016]   \n",
       "18381 2019-04-14 15:09:00          [835, Lake, St,, Portland,, OR, 97035]   \n",
       "18382 2019-04-18 11:08:00           [354, North, St,, Boston,, MA, 02215]   \n",
       "\n",
       "       Day  Month  Year  Hour  Minute        city state pincode  \n",
       "0       19      4  2019     8      46     Dallas,    TX   75001  \n",
       "2        7      4  2019    22      30     Boston,    MA   02215  \n",
       "3       12      4  2019    14      38    Angeles,    CA   90001  \n",
       "4       12      4  2019    14      38    Angeles,    CA   90001  \n",
       "5       30      4  2019     9      27    Angeles,    CA   90001  \n",
       "...    ...    ...   ...   ...     ...         ...   ...     ...  \n",
       "18378    8      4  2019    17      11    Angeles,    CA   90001  \n",
       "18379   15      4  2019    16       2     Austin,    TX   73301  \n",
       "18380   28      4  2019    14      36  Francisco,    CA   94016  \n",
       "18381   14      4  2019    15       9   Portland,    OR   97035  \n",
       "18382   18      4  2019    11       8     Boston,    MA   02215  \n",
       "\n",
       "[18289 rows x 14 columns]"
      ]
     },
     "execution_count": 34,
     "metadata": {},
     "output_type": "execute_result"
    }
   ],
   "source": [
    "df"
   ]
  },
  {
   "cell_type": "code",
   "execution_count": 35,
   "id": "41151d55-9911-4dfb-bf4b-628971be6770",
   "metadata": {},
   "outputs": [
    {
     "data": {
      "text/plain": [
       "Order ID\n",
       "178158    4\n",
       "193511    4\n",
       "177167    3\n",
       "189414    3\n",
       "183361    3\n",
       "         ..\n",
       "182524    1\n",
       "182525    1\n",
       "182526    1\n",
       "182527    1\n",
       "194094    1\n",
       "Name: count, Length: 17537, dtype: int64"
      ]
     },
     "execution_count": 35,
     "metadata": {},
     "output_type": "execute_result"
    }
   ],
   "source": [
    "df[\"Order ID\"].value_counts()"
   ]
  },
  {
   "cell_type": "code",
   "execution_count": 36,
   "id": "81504e6c-33ad-47c0-98b2-fa0ba90fceda",
   "metadata": {},
   "outputs": [
    {
     "data": {
      "text/html": [
       "<div>\n",
       "<style scoped>\n",
       "    .dataframe tbody tr th:only-of-type {\n",
       "        vertical-align: middle;\n",
       "    }\n",
       "\n",
       "    .dataframe tbody tr th {\n",
       "        vertical-align: top;\n",
       "    }\n",
       "\n",
       "    .dataframe thead th {\n",
       "        text-align: right;\n",
       "    }\n",
       "</style>\n",
       "<table border=\"1\" class=\"dataframe\">\n",
       "  <thead>\n",
       "    <tr style=\"text-align: right;\">\n",
       "      <th></th>\n",
       "      <th>Order ID</th>\n",
       "      <th>Product</th>\n",
       "      <th>Quantity Ordered</th>\n",
       "      <th>Price Each</th>\n",
       "      <th>Order Date</th>\n",
       "      <th>Purchase Address</th>\n",
       "      <th>Day</th>\n",
       "      <th>Month</th>\n",
       "      <th>Year</th>\n",
       "      <th>Hour</th>\n",
       "      <th>Minute</th>\n",
       "      <th>city</th>\n",
       "      <th>state</th>\n",
       "      <th>pincode</th>\n",
       "    </tr>\n",
       "  </thead>\n",
       "  <tbody>\n",
       "    <tr>\n",
       "      <th>1681</th>\n",
       "      <td>178158</td>\n",
       "      <td>Google Phone</td>\n",
       "      <td>1</td>\n",
       "      <td>600</td>\n",
       "      <td>2019-04-28 21:13:00</td>\n",
       "      <td>[197, Center, St,, San, Francisco,, CA, 94016]</td>\n",
       "      <td>28</td>\n",
       "      <td>4</td>\n",
       "      <td>2019</td>\n",
       "      <td>21</td>\n",
       "      <td>13</td>\n",
       "      <td>Francisco,</td>\n",
       "      <td>CA</td>\n",
       "      <td>94016</td>\n",
       "    </tr>\n",
       "    <tr>\n",
       "      <th>1682</th>\n",
       "      <td>178158</td>\n",
       "      <td>USB-C Charging Cable</td>\n",
       "      <td>1</td>\n",
       "      <td>11.95</td>\n",
       "      <td>2019-04-28 21:13:00</td>\n",
       "      <td>[197, Center, St,, San, Francisco,, CA, 94016]</td>\n",
       "      <td>28</td>\n",
       "      <td>4</td>\n",
       "      <td>2019</td>\n",
       "      <td>21</td>\n",
       "      <td>13</td>\n",
       "      <td>Francisco,</td>\n",
       "      <td>CA</td>\n",
       "      <td>94016</td>\n",
       "    </tr>\n",
       "    <tr>\n",
       "      <th>1683</th>\n",
       "      <td>178158</td>\n",
       "      <td>Wired Headphones</td>\n",
       "      <td>1</td>\n",
       "      <td>11.99</td>\n",
       "      <td>2019-04-28 21:13:00</td>\n",
       "      <td>[197, Center, St,, San, Francisco,, CA, 94016]</td>\n",
       "      <td>28</td>\n",
       "      <td>4</td>\n",
       "      <td>2019</td>\n",
       "      <td>21</td>\n",
       "      <td>13</td>\n",
       "      <td>Francisco,</td>\n",
       "      <td>CA</td>\n",
       "      <td>94016</td>\n",
       "    </tr>\n",
       "    <tr>\n",
       "      <th>1684</th>\n",
       "      <td>178158</td>\n",
       "      <td>USB-C Charging Cable</td>\n",
       "      <td>1</td>\n",
       "      <td>11.95</td>\n",
       "      <td>2019-04-28 21:13:00</td>\n",
       "      <td>[197, Center, St,, San, Francisco,, CA, 94016]</td>\n",
       "      <td>28</td>\n",
       "      <td>4</td>\n",
       "      <td>2019</td>\n",
       "      <td>21</td>\n",
       "      <td>13</td>\n",
       "      <td>Francisco,</td>\n",
       "      <td>CA</td>\n",
       "      <td>94016</td>\n",
       "    </tr>\n",
       "  </tbody>\n",
       "</table>\n",
       "</div>"
      ],
      "text/plain": [
       "     Order ID               Product Quantity Ordered Price Each  \\\n",
       "1681   178158          Google Phone                1        600   \n",
       "1682   178158  USB-C Charging Cable                1      11.95   \n",
       "1683   178158      Wired Headphones                1      11.99   \n",
       "1684   178158  USB-C Charging Cable                1      11.95   \n",
       "\n",
       "              Order Date                                Purchase Address  Day  \\\n",
       "1681 2019-04-28 21:13:00  [197, Center, St,, San, Francisco,, CA, 94016]   28   \n",
       "1682 2019-04-28 21:13:00  [197, Center, St,, San, Francisco,, CA, 94016]   28   \n",
       "1683 2019-04-28 21:13:00  [197, Center, St,, San, Francisco,, CA, 94016]   28   \n",
       "1684 2019-04-28 21:13:00  [197, Center, St,, San, Francisco,, CA, 94016]   28   \n",
       "\n",
       "      Month  Year  Hour  Minute        city state pincode  \n",
       "1681      4  2019    21      13  Francisco,    CA   94016  \n",
       "1682      4  2019    21      13  Francisco,    CA   94016  \n",
       "1683      4  2019    21      13  Francisco,    CA   94016  \n",
       "1684      4  2019    21      13  Francisco,    CA   94016  "
      ]
     },
     "execution_count": 36,
     "metadata": {},
     "output_type": "execute_result"
    }
   ],
   "source": [
    "df[df[\"Order ID\"]=='178158']"
   ]
  },
  {
   "cell_type": "code",
   "execution_count": 37,
   "id": "6dca559f-990b-4160-b7ea-e580996cc538",
   "metadata": {},
   "outputs": [],
   "source": [
    "df[\"Price Each\"]=df[\"Price Each\"].astype('float')\n",
    "df[\"Quantity Ordered\"]=df[\"Quantity Ordered\"].astype('int32')"
   ]
  },
  {
   "cell_type": "code",
   "execution_count": 38,
   "id": "0832f4c6-028e-4eb5-9a91-87c12d2b4aa0",
   "metadata": {},
   "outputs": [
    {
     "name": "stdout",
     "output_type": "stream",
     "text": [
      "<class 'pandas.core.frame.DataFrame'>\n",
      "Index: 18289 entries, 0 to 18382\n",
      "Data columns (total 14 columns):\n",
      " #   Column            Non-Null Count  Dtype         \n",
      "---  ------            --------------  -----         \n",
      " 0   Order ID          18289 non-null  object        \n",
      " 1   Product           18289 non-null  object        \n",
      " 2   Quantity Ordered  18289 non-null  int32         \n",
      " 3   Price Each        18289 non-null  float64       \n",
      " 4   Order Date        18289 non-null  datetime64[ns]\n",
      " 5   Purchase Address  18289 non-null  object        \n",
      " 6   Day               18289 non-null  int32         \n",
      " 7   Month             18289 non-null  int32         \n",
      " 8   Year              18289 non-null  int32         \n",
      " 9   Hour              18289 non-null  int32         \n",
      " 10  Minute            18289 non-null  int32         \n",
      " 11  city              18289 non-null  object        \n",
      " 12  state             18289 non-null  object        \n",
      " 13  pincode           18289 non-null  object        \n",
      "dtypes: datetime64[ns](1), float64(1), int32(6), object(6)\n",
      "memory usage: 1.7+ MB\n"
     ]
    }
   ],
   "source": [
    " df.info()"
   ]
  },
  {
   "cell_type": "code",
   "execution_count": 39,
   "id": "cd95c21b-b1c3-49ea-9fde-204182f16d0c",
   "metadata": {},
   "outputs": [
    {
     "data": {
      "text/plain": [
       "count    18289.000000\n",
       "mean       184.431026\n",
       "std        330.913377\n",
       "min          2.990000\n",
       "25%         11.950000\n",
       "50%         14.950000\n",
       "75%        150.000000\n",
       "max       1700.000000\n",
       "Name: Price Each, dtype: float64"
      ]
     },
     "execution_count": 39,
     "metadata": {},
     "output_type": "execute_result"
    }
   ],
   "source": [
    "df['Price Each'].describe()"
   ]
  },
  {
   "cell_type": "code",
   "execution_count": 40,
   "id": "8f4a1c3d-5d94-4917-a888-3ed3d075d9e2",
   "metadata": {},
   "outputs": [],
   "source": [
    "df['Purchase Address'] = df['Purchase Address'].apply(lambda x: \" \".join(x))"
   ]
  },
  {
   "cell_type": "markdown",
   "id": "983d92b6-3e86-4dec-8479-bf6f931a9a61",
   "metadata": {},
   "source": [
    "### Preprocessing Done"
   ]
  },
  {
   "cell_type": "markdown",
   "id": "a1c824b2-1535-403c-9cc3-c2600f0f9380",
   "metadata": {},
   "source": [
    "## EDA"
   ]
  },
  {
   "cell_type": "code",
   "execution_count": 41,
   "id": "99b5da18-b7fc-479a-a0e1-ebd0ceb91620",
   "metadata": {},
   "outputs": [
    {
     "data": {
      "text/plain": [
       "Order ID\n",
       "178158    4\n",
       "193511    4\n",
       "177167    3\n",
       "189414    3\n",
       "183361    3\n",
       "         ..\n",
       "182524    1\n",
       "182525    1\n",
       "182526    1\n",
       "182527    1\n",
       "194094    1\n",
       "Name: count, Length: 17537, dtype: int64"
      ]
     },
     "execution_count": 41,
     "metadata": {},
     "output_type": "execute_result"
    }
   ],
   "source": [
    "df[\"Order ID\"].value_counts()"
   ]
  },
  {
   "cell_type": "code",
   "execution_count": 42,
   "id": "2c64eb53-e73a-4379-ad45-d8a7f31d926d",
   "metadata": {},
   "outputs": [
    {
     "name": "stdout",
     "output_type": "stream",
     "text": [
      "717\n"
     ]
    }
   ],
   "source": [
    "multiple_order=df[df[\"Order ID\"].isin(df[\"Order ID\"].value_counts()[df[\"Order ID\"].value_counts() > 1].index)]\n",
    "print(multiple_order['Order ID'].nunique())"
   ]
  },
  {
   "cell_type": "markdown",
   "id": "8ab9e8f6-ff21-4ba5-8448-7e019b160565",
   "metadata": {},
   "source": [
    "#### The Repetation of Order_ID Tell That 717 persone buy multiple product at a time "
   ]
  },
  {
   "cell_type": "code",
   "execution_count": 44,
   "id": "454e0d39-5cf5-40d5-8fba-a13c55ac9c7c",
   "metadata": {},
   "outputs": [
    {
     "data": {
      "text/plain": [
       "<pandas.core.groupby.generic.DataFrameGroupBy object at 0x000001BEDBCE6D50>"
      ]
     },
     "execution_count": 44,
     "metadata": {},
     "output_type": "execute_result"
    }
   ],
   "source": [
    "multiple_order.groupby('Order ID')"
   ]
  },
  {
   "cell_type": "code",
   "execution_count": 43,
   "id": "93f80828-f66c-4210-9662-a43d79aa33a2",
   "metadata": {},
   "outputs": [
    {
     "data": {
      "text/html": [
       "<div>\n",
       "<style scoped>\n",
       "    .dataframe tbody tr th:only-of-type {\n",
       "        vertical-align: middle;\n",
       "    }\n",
       "\n",
       "    .dataframe tbody tr th {\n",
       "        vertical-align: top;\n",
       "    }\n",
       "\n",
       "    .dataframe thead th {\n",
       "        text-align: right;\n",
       "    }\n",
       "</style>\n",
       "<table border=\"1\" class=\"dataframe\">\n",
       "  <thead>\n",
       "    <tr style=\"text-align: right;\">\n",
       "      <th></th>\n",
       "      <th>Order ID</th>\n",
       "      <th>Product</th>\n",
       "      <th>Quantity Ordered</th>\n",
       "      <th>Price Each</th>\n",
       "      <th>Order Date</th>\n",
       "      <th>Purchase Address</th>\n",
       "      <th>Day</th>\n",
       "      <th>Month</th>\n",
       "      <th>Year</th>\n",
       "      <th>Hour</th>\n",
       "      <th>Minute</th>\n",
       "      <th>city</th>\n",
       "      <th>state</th>\n",
       "      <th>pincode</th>\n",
       "    </tr>\n",
       "  </thead>\n",
       "  <tbody>\n",
       "    <tr>\n",
       "      <th>3</th>\n",
       "      <td>176560</td>\n",
       "      <td>Google Phone</td>\n",
       "      <td>1</td>\n",
       "      <td>600.00</td>\n",
       "      <td>2019-04-12 14:38:00</td>\n",
       "      <td>669 Spruce St, Los Angeles, CA 90001</td>\n",
       "      <td>12</td>\n",
       "      <td>4</td>\n",
       "      <td>2019</td>\n",
       "      <td>14</td>\n",
       "      <td>38</td>\n",
       "      <td>Angeles,</td>\n",
       "      <td>CA</td>\n",
       "      <td>90001</td>\n",
       "    </tr>\n",
       "    <tr>\n",
       "      <th>4</th>\n",
       "      <td>176560</td>\n",
       "      <td>Wired Headphones</td>\n",
       "      <td>1</td>\n",
       "      <td>11.99</td>\n",
       "      <td>2019-04-12 14:38:00</td>\n",
       "      <td>669 Spruce St, Los Angeles, CA 90001</td>\n",
       "      <td>12</td>\n",
       "      <td>4</td>\n",
       "      <td>2019</td>\n",
       "      <td>14</td>\n",
       "      <td>38</td>\n",
       "      <td>Angeles,</td>\n",
       "      <td>CA</td>\n",
       "      <td>90001</td>\n",
       "    </tr>\n",
       "    <tr>\n",
       "      <th>18</th>\n",
       "      <td>176574</td>\n",
       "      <td>Google Phone</td>\n",
       "      <td>1</td>\n",
       "      <td>600.00</td>\n",
       "      <td>2019-04-03 19:42:00</td>\n",
       "      <td>20 Hill St, Los Angeles, CA 90001</td>\n",
       "      <td>3</td>\n",
       "      <td>4</td>\n",
       "      <td>2019</td>\n",
       "      <td>19</td>\n",
       "      <td>42</td>\n",
       "      <td>Angeles,</td>\n",
       "      <td>CA</td>\n",
       "      <td>90001</td>\n",
       "    </tr>\n",
       "    <tr>\n",
       "      <th>19</th>\n",
       "      <td>176574</td>\n",
       "      <td>USB-C Charging Cable</td>\n",
       "      <td>1</td>\n",
       "      <td>11.95</td>\n",
       "      <td>2019-04-03 19:42:00</td>\n",
       "      <td>20 Hill St, Los Angeles, CA 90001</td>\n",
       "      <td>3</td>\n",
       "      <td>4</td>\n",
       "      <td>2019</td>\n",
       "      <td>19</td>\n",
       "      <td>42</td>\n",
       "      <td>Angeles,</td>\n",
       "      <td>CA</td>\n",
       "      <td>90001</td>\n",
       "    </tr>\n",
       "    <tr>\n",
       "      <th>30</th>\n",
       "      <td>176585</td>\n",
       "      <td>Bose SoundSport Headphones</td>\n",
       "      <td>1</td>\n",
       "      <td>99.99</td>\n",
       "      <td>2019-04-07 11:31:00</td>\n",
       "      <td>823 Highland St, Boston, MA 02215</td>\n",
       "      <td>7</td>\n",
       "      <td>4</td>\n",
       "      <td>2019</td>\n",
       "      <td>11</td>\n",
       "      <td>31</td>\n",
       "      <td>Boston,</td>\n",
       "      <td>MA</td>\n",
       "      <td>02215</td>\n",
       "    </tr>\n",
       "    <tr>\n",
       "      <th>...</th>\n",
       "      <td>...</td>\n",
       "      <td>...</td>\n",
       "      <td>...</td>\n",
       "      <td>...</td>\n",
       "      <td>...</td>\n",
       "      <td>...</td>\n",
       "      <td>...</td>\n",
       "      <td>...</td>\n",
       "      <td>...</td>\n",
       "      <td>...</td>\n",
       "      <td>...</td>\n",
       "      <td>...</td>\n",
       "      <td>...</td>\n",
       "      <td>...</td>\n",
       "    </tr>\n",
       "    <tr>\n",
       "      <th>18336</th>\n",
       "      <td>194050</td>\n",
       "      <td>USB-C Charging Cable</td>\n",
       "      <td>1</td>\n",
       "      <td>11.95</td>\n",
       "      <td>2019-04-27 00:27:00</td>\n",
       "      <td>997 9th St, San Francisco, CA 94016</td>\n",
       "      <td>27</td>\n",
       "      <td>4</td>\n",
       "      <td>2019</td>\n",
       "      <td>0</td>\n",
       "      <td>27</td>\n",
       "      <td>Francisco,</td>\n",
       "      <td>CA</td>\n",
       "      <td>94016</td>\n",
       "    </tr>\n",
       "    <tr>\n",
       "      <th>18342</th>\n",
       "      <td>194056</td>\n",
       "      <td>iPhone</td>\n",
       "      <td>1</td>\n",
       "      <td>700.00</td>\n",
       "      <td>2019-04-10 10:05:00</td>\n",
       "      <td>280 7th St, San Francisco, CA 94016</td>\n",
       "      <td>10</td>\n",
       "      <td>4</td>\n",
       "      <td>2019</td>\n",
       "      <td>10</td>\n",
       "      <td>5</td>\n",
       "      <td>Francisco,</td>\n",
       "      <td>CA</td>\n",
       "      <td>94016</td>\n",
       "    </tr>\n",
       "    <tr>\n",
       "      <th>18343</th>\n",
       "      <td>194056</td>\n",
       "      <td>Lightning Charging Cable</td>\n",
       "      <td>1</td>\n",
       "      <td>14.95</td>\n",
       "      <td>2019-04-10 10:05:00</td>\n",
       "      <td>280 7th St, San Francisco, CA 94016</td>\n",
       "      <td>10</td>\n",
       "      <td>4</td>\n",
       "      <td>2019</td>\n",
       "      <td>10</td>\n",
       "      <td>5</td>\n",
       "      <td>Francisco,</td>\n",
       "      <td>CA</td>\n",
       "      <td>94016</td>\n",
       "    </tr>\n",
       "    <tr>\n",
       "      <th>18348</th>\n",
       "      <td>194061</td>\n",
       "      <td>iPhone</td>\n",
       "      <td>1</td>\n",
       "      <td>700.00</td>\n",
       "      <td>2019-04-14 20:22:00</td>\n",
       "      <td>209 6th St, Atlanta, GA 30301</td>\n",
       "      <td>14</td>\n",
       "      <td>4</td>\n",
       "      <td>2019</td>\n",
       "      <td>20</td>\n",
       "      <td>22</td>\n",
       "      <td>Atlanta,</td>\n",
       "      <td>GA</td>\n",
       "      <td>30301</td>\n",
       "    </tr>\n",
       "    <tr>\n",
       "      <th>18349</th>\n",
       "      <td>194061</td>\n",
       "      <td>Lightning Charging Cable</td>\n",
       "      <td>3</td>\n",
       "      <td>14.95</td>\n",
       "      <td>2019-04-14 20:22:00</td>\n",
       "      <td>209 6th St, Atlanta, GA 30301</td>\n",
       "      <td>14</td>\n",
       "      <td>4</td>\n",
       "      <td>2019</td>\n",
       "      <td>20</td>\n",
       "      <td>22</td>\n",
       "      <td>Atlanta,</td>\n",
       "      <td>GA</td>\n",
       "      <td>30301</td>\n",
       "    </tr>\n",
       "  </tbody>\n",
       "</table>\n",
       "<p>1469 rows × 14 columns</p>\n",
       "</div>"
      ],
      "text/plain": [
       "      Order ID                     Product  Quantity Ordered  Price Each  \\\n",
       "3       176560                Google Phone                 1      600.00   \n",
       "4       176560            Wired Headphones                 1       11.99   \n",
       "18      176574                Google Phone                 1      600.00   \n",
       "19      176574        USB-C Charging Cable                 1       11.95   \n",
       "30      176585  Bose SoundSport Headphones                 1       99.99   \n",
       "...        ...                         ...               ...         ...   \n",
       "18336   194050        USB-C Charging Cable                 1       11.95   \n",
       "18342   194056                      iPhone                 1      700.00   \n",
       "18343   194056    Lightning Charging Cable                 1       14.95   \n",
       "18348   194061                      iPhone                 1      700.00   \n",
       "18349   194061    Lightning Charging Cable                 3       14.95   \n",
       "\n",
       "               Order Date                      Purchase Address  Day  Month  \\\n",
       "3     2019-04-12 14:38:00  669 Spruce St, Los Angeles, CA 90001   12      4   \n",
       "4     2019-04-12 14:38:00  669 Spruce St, Los Angeles, CA 90001   12      4   \n",
       "18    2019-04-03 19:42:00     20 Hill St, Los Angeles, CA 90001    3      4   \n",
       "19    2019-04-03 19:42:00     20 Hill St, Los Angeles, CA 90001    3      4   \n",
       "30    2019-04-07 11:31:00     823 Highland St, Boston, MA 02215    7      4   \n",
       "...                   ...                                   ...  ...    ...   \n",
       "18336 2019-04-27 00:27:00   997 9th St, San Francisco, CA 94016   27      4   \n",
       "18342 2019-04-10 10:05:00   280 7th St, San Francisco, CA 94016   10      4   \n",
       "18343 2019-04-10 10:05:00   280 7th St, San Francisco, CA 94016   10      4   \n",
       "18348 2019-04-14 20:22:00         209 6th St, Atlanta, GA 30301   14      4   \n",
       "18349 2019-04-14 20:22:00         209 6th St, Atlanta, GA 30301   14      4   \n",
       "\n",
       "       Year  Hour  Minute        city state pincode  \n",
       "3      2019    14      38    Angeles,    CA   90001  \n",
       "4      2019    14      38    Angeles,    CA   90001  \n",
       "18     2019    19      42    Angeles,    CA   90001  \n",
       "19     2019    19      42    Angeles,    CA   90001  \n",
       "30     2019    11      31     Boston,    MA   02215  \n",
       "...     ...   ...     ...         ...   ...     ...  \n",
       "18336  2019     0      27  Francisco,    CA   94016  \n",
       "18342  2019    10       5  Francisco,    CA   94016  \n",
       "18343  2019    10       5  Francisco,    CA   94016  \n",
       "18348  2019    20      22    Atlanta,    GA   30301  \n",
       "18349  2019    20      22    Atlanta,    GA   30301  \n",
       "\n",
       "[1469 rows x 14 columns]"
      ]
     },
     "execution_count": 43,
     "metadata": {},
     "output_type": "execute_result"
    }
   ],
   "source": [
    "multiple_order"
   ]
  },
  {
   "cell_type": "code",
   "execution_count": 44,
   "id": "351559d2-d8cf-4d8d-8e7a-71ac2585a6ca",
   "metadata": {},
   "outputs": [
    {
     "data": {
      "text/html": [
       "<div>\n",
       "<style scoped>\n",
       "    .dataframe tbody tr th:only-of-type {\n",
       "        vertical-align: middle;\n",
       "    }\n",
       "\n",
       "    .dataframe tbody tr th {\n",
       "        vertical-align: top;\n",
       "    }\n",
       "\n",
       "    .dataframe thead th {\n",
       "        text-align: right;\n",
       "    }\n",
       "</style>\n",
       "<table border=\"1\" class=\"dataframe\">\n",
       "  <thead>\n",
       "    <tr style=\"text-align: right;\">\n",
       "      <th></th>\n",
       "      <th>Quantity Ordered</th>\n",
       "      <th>Price Each</th>\n",
       "    </tr>\n",
       "    <tr>\n",
       "      <th>Order ID</th>\n",
       "      <th></th>\n",
       "      <th></th>\n",
       "    </tr>\n",
       "  </thead>\n",
       "  <tbody>\n",
       "    <tr>\n",
       "      <th>176560</th>\n",
       "      <td>2</td>\n",
       "      <td>611.99</td>\n",
       "    </tr>\n",
       "    <tr>\n",
       "      <th>176574</th>\n",
       "      <td>2</td>\n",
       "      <td>611.95</td>\n",
       "    </tr>\n",
       "    <tr>\n",
       "      <th>176585</th>\n",
       "      <td>2</td>\n",
       "      <td>199.98</td>\n",
       "    </tr>\n",
       "    <tr>\n",
       "      <th>176586</th>\n",
       "      <td>3</td>\n",
       "      <td>602.99</td>\n",
       "    </tr>\n",
       "    <tr>\n",
       "      <th>176672</th>\n",
       "      <td>2</td>\n",
       "      <td>26.90</td>\n",
       "    </tr>\n",
       "    <tr>\n",
       "      <th>...</th>\n",
       "      <td>...</td>\n",
       "      <td>...</td>\n",
       "    </tr>\n",
       "    <tr>\n",
       "      <th>194008</th>\n",
       "      <td>2</td>\n",
       "      <td>15.83</td>\n",
       "    </tr>\n",
       "    <tr>\n",
       "      <th>194021</th>\n",
       "      <td>2</td>\n",
       "      <td>611.99</td>\n",
       "    </tr>\n",
       "    <tr>\n",
       "      <th>194050</th>\n",
       "      <td>2</td>\n",
       "      <td>15.79</td>\n",
       "    </tr>\n",
       "    <tr>\n",
       "      <th>194056</th>\n",
       "      <td>2</td>\n",
       "      <td>714.95</td>\n",
       "    </tr>\n",
       "    <tr>\n",
       "      <th>194061</th>\n",
       "      <td>4</td>\n",
       "      <td>714.95</td>\n",
       "    </tr>\n",
       "  </tbody>\n",
       "</table>\n",
       "<p>717 rows × 2 columns</p>\n",
       "</div>"
      ],
      "text/plain": [
       "          Quantity Ordered  Price Each\n",
       "Order ID                              \n",
       "176560                   2      611.99\n",
       "176574                   2      611.95\n",
       "176585                   2      199.98\n",
       "176586                   3      602.99\n",
       "176672                   2       26.90\n",
       "...                    ...         ...\n",
       "194008                   2       15.83\n",
       "194021                   2      611.99\n",
       "194050                   2       15.79\n",
       "194056                   2      714.95\n",
       "194061                   4      714.95\n",
       "\n",
       "[717 rows x 2 columns]"
      ]
     },
     "execution_count": 44,
     "metadata": {},
     "output_type": "execute_result"
    }
   ],
   "source": [
    "multiple_order.groupby('Order ID')[['Quantity Ordered','Price Each']].sum()"
   ]
  },
  {
   "cell_type": "code",
   "execution_count": 45,
   "id": "b2985659-c666-411e-9e4d-5fb7a26ca889",
   "metadata": {},
   "outputs": [
    {
     "data": {
      "text/plain": [
       "Product                     Price Each\n",
       "Lightning Charging Cable    14.95         2201\n",
       "USB-C Charging Cable        11.95         2079\n",
       "AA Batteries (4-pack)       3.84          2063\n",
       "AAA Batteries (4-pack)      2.99          1989\n",
       "Wired Headphones            11.99         1890\n",
       "Apple Airpods Headphones    150.00        1515\n",
       "Bose SoundSport Headphones  99.99         1280\n",
       "27in FHD Monitor            149.99         734\n",
       "iPhone                      700.00         693\n",
       "34in Ultrawide Monitor      379.99         650\n",
       "Google Phone                600.00         581\n",
       "27in 4K Gaming Monitor      389.99         563\n",
       "Flatscreen TV               300.00         458\n",
       "Macbook Pro Laptop          1700.00        453\n",
       "ThinkPad Laptop             999.99         392\n",
       "20in Monitor                109.99         390\n",
       "Vareebadd Phone             400.00         220\n",
       "LG Dryer                    600.00          77\n",
       "LG Washing Machine          600.00          61\n",
       "Name: count, dtype: int64"
      ]
     },
     "execution_count": 45,
     "metadata": {},
     "output_type": "execute_result"
    }
   ],
   "source": [
    "df[['Product','Price Each']].value_counts()"
   ]
  },
  {
   "cell_type": "code",
   "execution_count": 43,
   "id": "3717c46a-9a96-4076-a795-f4a72c23d656",
   "metadata": {},
   "outputs": [
    {
     "data": {
      "text/plain": [
       "<Axes: xlabel='Product,Price Each'>"
      ]
     },
     "execution_count": 43,
     "metadata": {},
     "output_type": "execute_result"
    },
    {
     "data": {
      "image/png": "[encoded data removed]",
      "text/plain": [
       "<Figure size 640x480 with 1 Axes>"
      ]
     },
     "metadata": {},
     "output_type": "display_data"
    }
   ],
   "source": [
    "df[['Product','Price Each']].value_counts().plot(kind='bar')"
   ]
  },
  {
   "cell_type": "markdown",
   "id": "0e6f1723-ba34-4fbe-b706-0085939b73b9",
   "metadata": {},
   "source": [
    "### Here:\n",
    "- we see that they use Charging light : therefore they are focusing more on buying charging cable and batteries\n",
    "- Price of item's does not highly effect on product\n",
    "- Sells of charging cable is the most(14.95 , 2201) and LG Washing Machine is least(600 , 61)\n",
    "- Highest price product have also in demand (1700 , 453)"
   ]
  },
  {
   "cell_type": "code",
   "execution_count": 46,
   "id": "dc9bc76b-cc78-4766-80fe-f2c6d6e2ff10",
   "metadata": {},
   "outputs": [
    {
     "data": {
      "text/plain": [
       "<Axes: xlabel='Product'>"
      ]
     },
     "execution_count": 46,
     "metadata": {},
     "output_type": "execute_result"
    },
    {
     "data": {
      "image/png": "[encoded data removed]",
      "text/plain": [
       "<Figure size 640x480 with 1 Axes>"
      ]
     },
     "metadata": {},
     "output_type": "display_data"
    }
   ],
   "source": [
    "df[\"Product\"].value_counts().plot(kind='bar')"
   ]
  },
  {
   "cell_type": "code",
   "execution_count": 47,
   "id": "17f47e77-0bbf-4073-9e62-9576c25d3e9e",
   "metadata": {},
   "outputs": [],
   "source": [
    "grouped = df.groupby(['Day', 'Month'])['Quantity Ordered'].sum().sort_values(ascending=False)"
   ]
  },
  {
   "cell_type": "code",
   "execution_count": 48,
   "id": "a5cc065d-81a8-4bea-98cb-f61ccbd21aec",
   "metadata": {},
   "outputs": [
    {
     "data": {
      "text/plain": [
       "Day  Month\n",
       "21   4        761\n",
       "18   4        737\n",
       "17   4        733\n",
       "13   4        729\n",
       "4    4        710\n",
       "24   4        702\n",
       "14   4        702\n",
       "11   4        702\n",
       "10   4        699\n",
       "27   4        698\n",
       "30   4        698\n",
       "12   4        696\n",
       "6    4        695\n",
       "9    4        689\n",
       "3    4        685\n",
       "16   4        681\n",
       "5    4        675\n",
       "8    4        674\n",
       "29   4        674\n",
       "28   4        673\n",
       "1    4        673\n",
       "23   4        670\n",
       "20   4        663\n",
       "2    4        663\n",
       "26   4        659\n",
       "25   4        654\n",
       "22   4        641\n",
       "7    4        641\n",
       "15   4        635\n",
       "19   4        627\n",
       "1    5         29\n",
       "Name: Quantity Ordered, dtype: int32"
      ]
     },
     "execution_count": 48,
     "metadata": {},
     "output_type": "execute_result"
    }
   ],
   "source": [
    "grouped"
   ]
  },
  {
   "cell_type": "code",
   "execution_count": 49,
   "id": "00a2a33a-6f9c-4620-a809-fabe05c7db50",
   "metadata": {},
   "outputs": [
    {
     "data": {
      "text/plain": [
       "<Axes: xlabel='Day,Month'>"
      ]
     },
     "execution_count": 49,
     "metadata": {},
     "output_type": "execute_result"
    },
    {
     "data": {
      "image/png": "[encoded data removed]",
      "text/plain": [
       "<Figure size 640x480 with 1 Axes>"
      ]
     },
     "metadata": {},
     "output_type": "display_data"
    }
   ],
   "source": [
    "grouped.plot(kind='bar')"
   ]
  },
  {
   "cell_type": "code",
   "execution_count": 51,
   "id": "c5dbe738-6b88-4d24-89cf-2720e8825096",
   "metadata": {},
   "outputs": [
    {
     "data": {
      "text/plain": [
       "Month\n",
       "4    18261\n",
       "5       28\n",
       "Name: count, dtype: int64"
      ]
     },
     "execution_count": 51,
     "metadata": {},
     "output_type": "execute_result"
    }
   ],
   "source": [
    "df['Month'].value_counts()"
   ]
  },
  {
   "cell_type": "code",
   "execution_count": 53,
   "id": "91774b3f-d1b6-4f88-9939-14c30446eb5e",
   "metadata": {},
   "outputs": [
    {
     "data": {
      "text/plain": [
       "city\n",
       "Francisco,    4437\n",
       "Angeles,      3026\n",
       "City,         2434\n",
       "Boston,       1918\n",
       "Atlanta,      1472\n",
       "Seattle,      1442\n",
       "Dallas,       1350\n",
       "Portland,     1237\n",
       "Austin,        973\n",
       "Name: count, dtype: int64"
      ]
     },
     "execution_count": 53,
     "metadata": {},
     "output_type": "execute_result"
    }
   ],
   "source": [
    "df['city'].value_counts()"
   ]
  },
  {
   "cell_type": "code",
   "execution_count": 52,
   "id": "e57e80aa-b439-42bd-a47a-46d382970f53",
   "metadata": {},
   "outputs": [
    {
     "data": {
      "text/plain": [
       "<Axes: ylabel='count'>"
      ]
     },
     "execution_count": 52,
     "metadata": {},
     "output_type": "execute_result"
    },
    {
     "data": {
      "image/png": "[encoded data removed]",
      "text/plain": [
       "<Figure size 640x480 with 1 Axes>"
      ]
     },
     "metadata": {},
     "output_type": "display_data"
    }
   ],
   "source": [
    "df['city'].value_counts().plot(kind='pie', autopct='%1.1f%%', startangle=90)"
   ]
  },
  {
   "cell_type": "markdown",
   "id": "48d192ef-0887-470f-92b0-aa7b2cf8af77",
   "metadata": {},
   "source": [
    "We sell our product in only 9 cities in which<br>\n",
    "Our sales more than 50% cover in only 3 cities <br>\n",
    "And our sales is limited in other cities so we need to improve our engagement in these cities"
   ]
  },
  {
   "cell_type": "code",
   "execution_count": 53,
   "id": "357efc3b-a4ec-4908-931c-4b4e8c3b2874",
   "metadata": {},
   "outputs": [
    {
     "data": {
      "text/plain": [
       "<Axes: ylabel='count'>"
      ]
     },
     "execution_count": 53,
     "metadata": {},
     "output_type": "execute_result"
    },
    {
     "data": {
      "image/png": "[encoded data removed]",
      "text/plain": [
       "<Figure size 640x480 with 1 Axes>"
      ]
     },
     "metadata": {},
     "output_type": "display_data"
    }
   ],
   "source": [
    "df['state'].value_counts().plot(kind='pie', autopct='%1.1f%%', startangle=90)"
   ]
  },
  {
   "cell_type": "markdown",
   "id": "af5e5eb4-030a-4521-b55d-39c72a519aff",
   "metadata": {},
   "source": [
    "## Our Most of the buyer live in CA (California)\n",
    "so we can open the shop in the california <br>\n",
    "we saw that in other state if we do some advertisement and give some offer it increase our sales "
   ]
  },
  {
   "cell_type": "code",
   "execution_count": 54,
   "id": "e6c9c9cd-6dff-4b1d-a080-1e053f39149d",
   "metadata": {},
   "outputs": [
    {
     "data": {
      "text/plain": [
       "pincode\n",
       "94016    4437\n",
       "90001    3026\n",
       "10001    2434\n",
       "02215    1918\n",
       "30301    1472\n",
       "98101    1442\n",
       "75001    1350\n",
       "97035     994\n",
       "73301     973\n",
       "04101     243\n",
       "Name: count, dtype: int64"
      ]
     },
     "execution_count": 54,
     "metadata": {},
     "output_type": "execute_result"
    }
   ],
   "source": [
    "df['pincode'].value_counts()"
   ]
  },
  {
   "cell_type": "code",
   "execution_count": 55,
   "id": "cd377ee9-e506-40bb-8a83-a18cb24725bd",
   "metadata": {},
   "outputs": [
    {
     "data": {
      "text/plain": [
       "Hour\n",
       "19    1286\n",
       "18    1227\n",
       "11    1201\n",
       "12    1201\n",
       "20    1201\n",
       "13    1192\n",
       "10    1134\n",
       "14    1112\n",
       "16    1054\n",
       "21    1018\n",
       "17    1013\n",
       "15     986\n",
       "9      869\n",
       "22     849\n",
       "8      643\n",
       "23     599\n",
       "7      384\n",
       "0      378\n",
       "6      254\n",
       "1      244\n",
       "5      143\n",
       "2      132\n",
       "3       85\n",
       "4       84\n",
       "Name: count, dtype: int64"
      ]
     },
     "execution_count": 55,
     "metadata": {},
     "output_type": "execute_result"
    }
   ],
   "source": [
    "df['Hour'].value_counts()"
   ]
  },
  {
   "cell_type": "code",
   "execution_count": 50,
   "id": "01d4e6d7-054c-457d-adf9-4bd3bc1078e4",
   "metadata": {},
   "outputs": [
    {
     "data": {
      "text/plain": [
       "<Axes: xlabel='Hour'>"
      ]
     },
     "execution_count": 50,
     "metadata": {},
     "output_type": "execute_result"
    },
    {
     "data": {
      "image/png": "[encoded data removed]",
      "text/plain": [
       "<Figure size 640x480 with 1 Axes>"
      ]
     },
     "metadata": {},
     "output_type": "display_data"
    }
   ],
   "source": [
    "df['Hour'].value_counts().plot(kind='bar')"
   ]
  },
  {
   "cell_type": "markdown",
   "id": "6b16be29-bd88-42f1-af42-2d0b9a1331ff",
   "metadata": {},
   "source": [
    "### this Graph tells that the maximum sells lies b/w:\n",
    "6-8pm ,10am-2pm"
   ]
  },
  {
   "cell_type": "code",
   "execution_count": 52,
   "id": "4e87044a-fd4a-4729-bb05-9c747f13170e",
   "metadata": {},
   "outputs": [
    {
     "data": {
      "text/plain": [
       "Text(0.5, 1.0, 'CO-Relation Matrix')"
      ]
     },
     "execution_count": 52,
     "metadata": {},
     "output_type": "execute_result"
    },
    {
     "data": {
      "image/png": "[encoded data removed]",
      "text/plain": [
       "<Figure size 1000x600 with 2 Axes>"
      ]
     },
     "metadata": {},
     "output_type": "display_data"
    }
   ],
   "source": [
    "plt.figure(figsize=(10,6))\n",
    "comtx=df.corr(numeric_only=True)\n",
    "sns.heatmap(comtx,annot=True,cmap='coolwarm')\n",
    "plt.title(\"CO-Relation Matrix\")"
   ]
  },
  {
   "cell_type": "code",
   "execution_count": null,
   "id": "feb67204-f952-464c-9ef2-86ea021037b6",
   "metadata": {},
   "outputs": [],
   "source": []
  }
 ],
 "metadata": {
  "kernelspec": {
   "display_name": "Python 3 (ipykernel)",
   "language": "python",
   "name": "python3"
  },
  "language_info": {
   "codemirror_mode": {
    "name": "ipython",
    "version": 3
   },
   "file_extension": ".py",
   "mimetype": "text/x-python",
   "name": "python",
   "nbconvert_exporter": "python",
   "pygments_lexer": "ipython3",
   "version": "3.11.5"
  }
 },
 "nbformat": 4,
 "nbformat_minor": 5
}
